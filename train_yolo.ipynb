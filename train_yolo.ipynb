{
 "cells": [
  {
   "cell_type": "code",
   "execution_count": 1,
   "metadata": {},
   "outputs": [
    {
     "name": "stdout",
     "output_type": "stream",
     "text": [
      "Ultralytics 8.3.61 🚀 Python-3.12.8 torch-2.5.1+cu124 CUDA:0 (NVIDIA A30, 24167MiB)\n",
      "Setup complete ✅ (96 CPUs, 502.8 GB RAM, 0.4/10.0 GB disk)\n"
     ]
    }
   ],
   "source": [
    "import ultralytics\n",
    "from ultralytics import YOLO\n",
    "import PIL\n",
    "import os\n",
    "import shutil\n",
    "import albumentations as A\n",
    "import cv2\n",
    "import os\n",
    "import numpy as np\n",
    "from collections import Counter, defaultdict\n",
    "import csv\n",
    "import supervision as sv\n",
    "\n",
    "ultralytics.checks()"
   ]
  },
  {
   "cell_type": "markdown",
   "metadata": {},
   "source": [
    "# Process and load data"
   ]
  },
  {
   "cell_type": "code",
   "execution_count": 2,
   "metadata": {},
   "outputs": [
    {
     "name": "stdout",
     "output_type": "stream",
     "text": [
      "loading Roboflow workspace...\n",
      "loading Roboflow project...\n"
     ]
    },
    {
     "name": "stderr",
     "output_type": "stream",
     "text": [
      "Downloading Dataset Version Zip in mal_dect_gametocyte_2-13 to yolov8:: 100%|██████████| 110439/110439 [00:06<00:00, 16176.85it/s]"
     ]
    },
    {
     "name": "stdout",
     "output_type": "stream",
     "text": [
      "\n"
     ]
    },
    {
     "name": "stderr",
     "output_type": "stream",
     "text": [
      "\n",
      "Extracting Dataset Version Zip to mal_dect_gametocyte_2-13 in yolov8:: 100%|██████████| 1426/1426 [00:05<00:00, 246.58it/s]\n"
     ]
    }
   ],
   "source": [
    "from roboflow import Roboflow\n",
    "rf = Roboflow(api_key=\"y4b9MAg40VjykvXuH2Cv\")\n",
    "project = rf.workspace(\"malaria-classification\").project(\"mal_dect_gametocyte_2\")\n",
    "version = project.version(13)\n",
    "dataset = version.download(\"yolov8\")\n",
    "                \n",
    "                \n",
    "                \n",
    "                "
   ]
  },
  {
   "cell_type": "markdown",
   "metadata": {},
   "source": [
    "# Data augmentation"
   ]
  },
  {
   "cell_type": "code",
   "execution_count": null,
   "metadata": {},
   "outputs": [],
   "source": [
    "# Directories\n",
    "image_dir = 'C:/Users/mckay.m/Yolo_malaria_classification/mal_dect_gametocyte_2-2/train/images'\n",
    "label_dir = 'C:/Users/mckay.m/Yolo_malaria_classification/mal_dect_gametocyte_2-2/train/labels'\n",
    "augmented_image_dir = 'C:/Users/mckay.m/Yolo_malaria_classification/mal_dect_gametocyte_2-2/train_aug/images'\n",
    "augmented_label_dir = 'C:/Users/mckay.m/Yolo_malaria_classification/mal_dect_gametocyte_2-2/train_aug/labels'\n",
    "\n",
    "# Create directories to save augmented data if they don't exist\n",
    "os.makedirs(augmented_image_dir, exist_ok=True)\n",
    "os.makedirs(augmented_label_dir, exist_ok=True)"
   ]
  },
  {
   "cell_type": "code",
   "execution_count": null,
   "metadata": {},
   "outputs": [],
   "source": [
    "# Define augmentation pipeline\n",
    "#colourjitter\n",
    "#gaussian blur\n",
    "#guassian noise\n",
    "# Set the seed\n",
    "np.random.seed(42)\n",
    "bbox_params = A.BboxParams(format='yolo', label_fields=['class_labels'])\n",
    "\n",
    "transform = A.Compose([\n",
    "    A.RandomCrop(width=640, height=640, p=0.5),        \n",
    "    A.HorizontalFlip(p=0.5),                           \n",
    "    #A.RandomBrightnessContrast(p=0.5),                 \n",
    "    #A.HueSaturationValue(p=0.5),\n",
    "    A.ColorJitter(p=0.5),                     \n",
    "    A.ShiftScaleRotate(shift_limit=0.1, scale_limit=0.2, rotate_limit=15, p=0.5),\n",
    "    A.Blur(blur_limit=3, p=0.5),  \n",
    "], bbox_params=bbox_params)"
   ]
  },
  {
   "cell_type": "code",
   "execution_count": null,
   "metadata": {},
   "outputs": [],
   "source": [
    "# Function to load YOLO annotations\n",
    "def load_yolo_labels(label_path):\n",
    "    bboxes = []\n",
    "    class_labels = []\n",
    "    with open(label_path, 'r') as file:\n",
    "        lines = file.readlines()\n",
    "        for line in lines:\n",
    "            parts = line.strip().split()\n",
    "            if len(parts) != 5:\n",
    "                print(f\"Skipping invalid line in file: {label_path}\")\n",
    "                continue\n",
    "            class_id, x_center, y_center, width, height = map(float, parts)\n",
    "            # Check if values are within valid range\n",
    "            if not (0 <= x_center <= 1 and 0 <= y_center <= 1 and 0 <= width <= 1 and 0 <= height <= 1):\n",
    "                print(f\"Invalid bbox values found in file: {label_path}\")\n",
    "                continue\n",
    "            bboxes.append([x_center, y_center, width, height])\n",
    "            class_labels.append(int(class_id))\n",
    "    return bboxes, class_labels\n",
    "\n",
    "def save_yolo_labels(label_path, bboxes, class_labels):\n",
    "    with open(label_path, 'w') as file:\n",
    "        for bbox, class_label in zip(bboxes, class_labels):\n",
    "            file.write(f\"{class_label} {' '.join(map(str, bbox))}\\n\")"
   ]
  },
  {
   "cell_type": "code",
   "execution_count": null,
   "metadata": {},
   "outputs": [],
   "source": [
    "# Loop through all images and labels\n",
    "for image_filename in os.listdir(image_dir):\n",
    "    if image_filename.endswith('.jpg'):\n",
    "        # Load image\n",
    "        image_path = os.path.join(image_dir, image_filename)\n",
    "        image = cv2.imread(image_path)\n",
    "        image = cv2.cvtColor(image, cv2.COLOR_BGR2RGB)  # Convert to RGB format\n",
    "        height, width, _ = image.shape\n",
    "\n",
    "        # Get corresponding label file\n",
    "        label_filename = image_filename.replace('.jpg', '.txt')\n",
    "        label_path = os.path.join(label_dir, label_filename)\n",
    "\n",
    "        # Process label file if it exists\n",
    "        if os.path.exists(label_path):\n",
    "            bboxes, class_labels = load_yolo_labels(label_path)\n",
    "\n",
    "            # Skip images with invalid bounding boxes\n",
    "            if not bboxes:\n",
    "                print(f\"No valid bounding boxes found in label file: {label_filename}\")\n",
    "                continue\n",
    "            \n",
    "            # Apply augmentations\n",
    "        try:\n",
    "\n",
    "            for i in range(1):  # Generate 3 augmented images per original image\n",
    "                augmented = transform(image=image, bboxes=bboxes, class_labels=class_labels)\n",
    "                augmented_image = augmented['image']\n",
    "                augmented_bboxes = augmented['bboxes']\n",
    "                augmented_labels = augmented['class_labels']\n",
    "                \n",
    "                # Save augmented image\n",
    "                augmented_image_filename = f\"{image_filename.replace('.jpg', f'_aug_{i}.jpg')}\"\n",
    "                augmented_image_path = os.path.join(augmented_image_dir, augmented_image_filename)\n",
    "                cv2.imwrite(augmented_image_path, cv2.cvtColor(augmented_image, cv2.COLOR_RGB2BGR))\n",
    "                \n",
    "                # Save augmented labels\n",
    "                augmented_label_filename = f\"{label_filename.replace('.txt', f'_aug_{i}.txt')}\"\n",
    "                augmented_label_path = os.path.join(augmented_label_dir, augmented_label_filename)\n",
    "                save_yolo_labels(augmented_label_path, augmented_bboxes, augmented_labels)\n",
    "        except ValueError as e:\n",
    "                print(f\"Error processing file {image_filename}: {e}\")\n",
    "\n",
    "print(\"Augmentation complete. Augmented images and labels saved.\")"
   ]
  },
  {
   "cell_type": "markdown",
   "metadata": {},
   "source": [
    "# Train model"
   ]
  },
  {
   "cell_type": "code",
   "execution_count": 3,
   "metadata": {},
   "outputs": [],
   "source": [
    "#load pretrained model \n",
    "model = YOLO(\"yolov8x.pt\")"
   ]
  },
  {
   "cell_type": "code",
   "execution_count": 4,
   "metadata": {},
   "outputs": [
    {
     "name": "stdout",
     "output_type": "stream",
     "text": [
      "True\n",
      "NVIDIA A30\n"
     ]
    }
   ],
   "source": [
    "import torch\n",
    "print(torch.cuda.is_available())  # Should return True\n",
    "print(torch.cuda.get_device_name(0))  # Displays your GPU name"
   ]
  },
  {
   "cell_type": "code",
   "execution_count": 5,
   "metadata": {},
   "outputs": [
    {
     "name": "stdout",
     "output_type": "stream",
     "text": [
      "Ultralytics 8.3.61 🚀 Python-3.12.8 torch-2.5.1+cu124 CUDA:0 (NVIDIA A30, 24167MiB)\n",
      "\u001b[34m\u001b[1mengine/trainer: \u001b[0mtask=detect, mode=train, model=yolov8x.pt, data=/vast/scratch/users/mckay.m/malaria_classifier_katrina/mal_dect_gametocyte_2-13/data.yaml, epochs=100, time=None, patience=50, batch=16, imgsz=640, save=True, save_period=-1, cache=False, device=0, workers=8, project=None, name=train, exist_ok=False, pretrained=True, optimizer=auto, verbose=True, seed=0, deterministic=True, single_cls=False, rect=False, cos_lr=False, close_mosaic=10, resume=False, amp=True, fraction=1.0, profile=False, freeze=None, multi_scale=False, overlap_mask=True, mask_ratio=4, dropout=0.0, val=True, split=val, save_json=False, save_hybrid=False, conf=None, iou=0.7, max_det=300, half=False, dnn=False, plots=True, source=None, vid_stride=1, stream_buffer=False, visualize=False, augment=False, agnostic_nms=False, classes=None, retina_masks=False, embed=None, show=False, save_frames=False, save_txt=False, save_conf=False, save_crop=False, show_labels=True, show_conf=True, show_boxes=True, line_width=None, format=torchscript, keras=False, optimize=False, int8=False, dynamic=False, simplify=True, opset=None, workspace=None, nms=False, lr0=0.01, lrf=0.01, momentum=0.937, weight_decay=0.0005, warmup_epochs=3.0, warmup_momentum=0.8, warmup_bias_lr=0.1, box=7.5, cls=0.5, dfl=1.5, pose=12.0, kobj=1.0, nbs=64, hsv_h=0.015, hsv_s=0.7, hsv_v=0.4, degrees=0.0, translate=0.1, scale=0.5, shear=0.0, perspective=0.0, flipud=0.0, fliplr=0.5, bgr=0.0, mosaic=1.0, mixup=0.0, copy_paste=0.0, copy_paste_mode=flip, auto_augment=randaugment, erasing=0.4, crop_fraction=1.0, cfg=None, tracker=botsort.yaml, save_dir=runs/detect/train\n",
      "Overriding model.yaml nc=80 with nc=4\n",
      "\n",
      "                   from  n    params  module                                       arguments                     \n",
      "  0                  -1  1      2320  ultralytics.nn.modules.conv.Conv             [3, 80, 3, 2]                 \n",
      "  1                  -1  1    115520  ultralytics.nn.modules.conv.Conv             [80, 160, 3, 2]               \n",
      "  2                  -1  3    436800  ultralytics.nn.modules.block.C2f             [160, 160, 3, True]           \n",
      "  3                  -1  1    461440  ultralytics.nn.modules.conv.Conv             [160, 320, 3, 2]              \n",
      "  4                  -1  6   3281920  ultralytics.nn.modules.block.C2f             [320, 320, 6, True]           \n",
      "  5                  -1  1   1844480  ultralytics.nn.modules.conv.Conv             [320, 640, 3, 2]              \n",
      "  6                  -1  6  13117440  ultralytics.nn.modules.block.C2f             [640, 640, 6, True]           \n",
      "  7                  -1  1   3687680  ultralytics.nn.modules.conv.Conv             [640, 640, 3, 2]              \n",
      "  8                  -1  3   6969600  ultralytics.nn.modules.block.C2f             [640, 640, 3, True]           \n",
      "  9                  -1  1   1025920  ultralytics.nn.modules.block.SPPF            [640, 640, 5]                 \n",
      " 10                  -1  1         0  torch.nn.modules.upsampling.Upsample         [None, 2, 'nearest']          \n",
      " 11             [-1, 6]  1         0  ultralytics.nn.modules.conv.Concat           [1]                           \n",
      " 12                  -1  3   7379200  ultralytics.nn.modules.block.C2f             [1280, 640, 3]                \n",
      " 13                  -1  1         0  torch.nn.modules.upsampling.Upsample         [None, 2, 'nearest']          \n",
      " 14             [-1, 4]  1         0  ultralytics.nn.modules.conv.Concat           [1]                           \n",
      " 15                  -1  3   1948800  ultralytics.nn.modules.block.C2f             [960, 320, 3]                 \n",
      " 16                  -1  1    922240  ultralytics.nn.modules.conv.Conv             [320, 320, 3, 2]              \n",
      " 17            [-1, 12]  1         0  ultralytics.nn.modules.conv.Concat           [1]                           \n",
      " 18                  -1  3   7174400  ultralytics.nn.modules.block.C2f             [960, 640, 3]                 \n",
      " 19                  -1  1   3687680  ultralytics.nn.modules.conv.Conv             [640, 640, 3, 2]              \n",
      " 20             [-1, 9]  1         0  ultralytics.nn.modules.conv.Concat           [1]                           \n",
      " 21                  -1  3   7379200  ultralytics.nn.modules.block.C2f             [1280, 640, 3]                \n",
      " 22        [15, 18, 21]  1   8721820  ultralytics.nn.modules.head.Detect           [4, [320, 640, 640]]          \n",
      "Model summary: 365 layers, 68,156,460 parameters, 68,156,444 gradients, 258.1 GFLOPs\n",
      "\n",
      "Transferred 589/595 items from pretrained weights\n",
      "Freezing layer 'model.22.dfl.conv.weight'\n",
      "\u001b[34m\u001b[1mAMP: \u001b[0mrunning Automatic Mixed Precision (AMP) checks...\n",
      "\u001b[34m\u001b[1mAMP: \u001b[0mchecks passed ✅\n"
     ]
    },
    {
     "name": "stderr",
     "output_type": "stream",
     "text": [
      "\u001b[34m\u001b[1mtrain: \u001b[0mScanning /vast/scratch/users/mckay.m/malaria_classifier_katrina/mal_dect_gametocyte_2-13/train/labels... 568 images, 11 backgrounds, 0 corrupt: 100%|██████████| 568/568 [00:00<00:00, 2117.90it/s]"
     ]
    },
    {
     "name": "stdout",
     "output_type": "stream",
     "text": [
      "\u001b[34m\u001b[1mtrain: \u001b[0mNew cache created: /vast/scratch/users/mckay.m/malaria_classifier_katrina/mal_dect_gametocyte_2-13/train/labels.cache\n",
      "\u001b[34m\u001b[1malbumentations: \u001b[0mBlur(p=0.01, blur_limit=(3, 7)), MedianBlur(p=0.01, blur_limit=(3, 7)), ToGray(p=0.01, num_output_channels=3, method='weighted_average'), CLAHE(p=0.01, clip_limit=(1.0, 4.0), tile_grid_size=(8, 8))\n"
     ]
    },
    {
     "name": "stderr",
     "output_type": "stream",
     "text": [
      "\n",
      "Argument 'quality_lower' is not valid and will be ignored.\n",
      "This DataLoader will create 8 worker processes in total. Our suggested max number of worker in current system is 2, which is smaller than what this DataLoader is going to create. Please be aware that excessive worker creation might get DataLoader running slow or even freeze, lower the worker number to avoid potential slowness/freeze if necessary.\n",
      "\u001b[34m\u001b[1mval: \u001b[0mScanning /vast/scratch/users/mckay.m/malaria_classifier_katrina/mal_dect_gametocyte_2-13/valid/labels... 93 images, 6 backgrounds, 0 corrupt: 100%|██████████| 93/93 [00:00<00:00, 1546.27it/s]"
     ]
    },
    {
     "name": "stdout",
     "output_type": "stream",
     "text": [
      "\u001b[34m\u001b[1mval: \u001b[0mNew cache created: /vast/scratch/users/mckay.m/malaria_classifier_katrina/mal_dect_gametocyte_2-13/valid/labels.cache\n"
     ]
    },
    {
     "name": "stderr",
     "output_type": "stream",
     "text": [
      "\n",
      "This DataLoader will create 16 worker processes in total. Our suggested max number of worker in current system is 2, which is smaller than what this DataLoader is going to create. Please be aware that excessive worker creation might get DataLoader running slow or even freeze, lower the worker number to avoid potential slowness/freeze if necessary.\n"
     ]
    },
    {
     "name": "stdout",
     "output_type": "stream",
     "text": [
      "Plotting labels to runs/detect/train/labels.jpg... \n",
      "\u001b[34m\u001b[1moptimizer:\u001b[0m 'optimizer=auto' found, ignoring 'lr0=0.01' and 'momentum=0.937' and determining best 'optimizer', 'lr0' and 'momentum' automatically... \n",
      "\u001b[34m\u001b[1moptimizer:\u001b[0m AdamW(lr=0.00125, momentum=0.9) with parameter groups 97 weight(decay=0.0), 104 weight(decay=0.0005), 103 bias(decay=0.0)\n",
      "Image sizes 640 train, 640 val\n",
      "Using 8 dataloader workers\n",
      "Logging results to \u001b[1mruns/detect/train\u001b[0m\n",
      "Starting training for 100 epochs...\n",
      "\n",
      "      Epoch    GPU_mem   box_loss   cls_loss   dfl_loss  Instances       Size\n"
     ]
    },
    {
     "name": "stderr",
     "output_type": "stream",
     "text": [
      "      1/100      12.5G      2.054      2.777      1.471         66        640: 100%|██████████| 36/36 [00:16<00:00,  2.22it/s]\n",
      "                 Class     Images  Instances      Box(P          R      mAP50  mAP50-95): 100%|██████████| 3/3 [00:02<00:00,  1.39it/s]"
     ]
    },
    {
     "name": "stdout",
     "output_type": "stream",
     "text": [
      "                   all         93        523     0.0322      0.213      0.023     0.0111\n"
     ]
    },
    {
     "name": "stderr",
     "output_type": "stream",
     "text": [
      "\n"
     ]
    },
    {
     "name": "stdout",
     "output_type": "stream",
     "text": [
      "\n",
      "      Epoch    GPU_mem   box_loss   cls_loss   dfl_loss  Instances       Size\n"
     ]
    },
    {
     "name": "stderr",
     "output_type": "stream",
     "text": [
      "      2/100      12.9G      1.762      1.823      1.299         52        640: 100%|██████████| 36/36 [00:14<00:00,  2.56it/s]\n",
      "                 Class     Images  Instances      Box(P          R      mAP50  mAP50-95): 100%|██████████| 3/3 [00:01<00:00,  1.87it/s]"
     ]
    },
    {
     "name": "stdout",
     "output_type": "stream",
     "text": [
      "                   all         93        523    0.00773      0.326    0.00634     0.0028\n"
     ]
    },
    {
     "name": "stderr",
     "output_type": "stream",
     "text": [
      "\n"
     ]
    },
    {
     "name": "stdout",
     "output_type": "stream",
     "text": [
      "\n",
      "      Epoch    GPU_mem   box_loss   cls_loss   dfl_loss  Instances       Size\n"
     ]
    },
    {
     "name": "stderr",
     "output_type": "stream",
     "text": [
      "      3/100        13G       1.76      1.601      1.285         66        640: 100%|██████████| 36/36 [00:14<00:00,  2.56it/s]\n",
      "                 Class     Images  Instances      Box(P          R      mAP50  mAP50-95): 100%|██████████| 3/3 [00:00<00:00,  3.00it/s]"
     ]
    },
    {
     "name": "stdout",
     "output_type": "stream",
     "text": [
      "                   all         93        523      0.315       0.68      0.454      0.217\n"
     ]
    },
    {
     "name": "stderr",
     "output_type": "stream",
     "text": [
      "\n"
     ]
    },
    {
     "name": "stdout",
     "output_type": "stream",
     "text": [
      "\n",
      "      Epoch    GPU_mem   box_loss   cls_loss   dfl_loss  Instances       Size\n"
     ]
    },
    {
     "name": "stderr",
     "output_type": "stream",
     "text": [
      "      4/100      13.3G      1.766      1.554      1.295         51        640: 100%|██████████| 36/36 [00:13<00:00,  2.60it/s]\n",
      "                 Class     Images  Instances      Box(P          R      mAP50  mAP50-95): 100%|██████████| 3/3 [00:01<00:00,  2.30it/s]"
     ]
    },
    {
     "name": "stdout",
     "output_type": "stream",
     "text": [
      "                   all         93        523        0.1      0.534     0.0754     0.0363\n"
     ]
    },
    {
     "name": "stderr",
     "output_type": "stream",
     "text": [
      "\n"
     ]
    },
    {
     "name": "stdout",
     "output_type": "stream",
     "text": [
      "\n",
      "      Epoch    GPU_mem   box_loss   cls_loss   dfl_loss  Instances       Size\n"
     ]
    },
    {
     "name": "stderr",
     "output_type": "stream",
     "text": [
      "      5/100      13.2G      1.717      1.415      1.263         59        640: 100%|██████████| 36/36 [00:14<00:00,  2.56it/s]\n",
      "                 Class     Images  Instances      Box(P          R      mAP50  mAP50-95): 100%|██████████| 3/3 [00:00<00:00,  3.12it/s]"
     ]
    },
    {
     "name": "stdout",
     "output_type": "stream",
     "text": [
      "                   all         93        523      0.276       0.44      0.294       0.16\n"
     ]
    },
    {
     "name": "stderr",
     "output_type": "stream",
     "text": [
      "\n"
     ]
    },
    {
     "name": "stdout",
     "output_type": "stream",
     "text": [
      "\n",
      "      Epoch    GPU_mem   box_loss   cls_loss   dfl_loss  Instances       Size\n"
     ]
    },
    {
     "name": "stderr",
     "output_type": "stream",
     "text": [
      "      6/100      13.2G      1.715      1.334       1.27         49        640: 100%|██████████| 36/36 [00:13<00:00,  2.61it/s]\n",
      "                 Class     Images  Instances      Box(P          R      mAP50  mAP50-95): 100%|██████████| 3/3 [00:01<00:00,  2.67it/s]"
     ]
    },
    {
     "name": "stdout",
     "output_type": "stream",
     "text": [
      "                   all         93        523      0.505      0.735      0.599      0.295\n"
     ]
    },
    {
     "name": "stderr",
     "output_type": "stream",
     "text": [
      "\n"
     ]
    },
    {
     "name": "stdout",
     "output_type": "stream",
     "text": [
      "\n",
      "      Epoch    GPU_mem   box_loss   cls_loss   dfl_loss  Instances       Size\n"
     ]
    },
    {
     "name": "stderr",
     "output_type": "stream",
     "text": [
      "      7/100      13.2G      1.667      1.283      1.237         64        640: 100%|██████████| 36/36 [00:13<00:00,  2.61it/s]\n",
      "                 Class     Images  Instances      Box(P          R      mAP50  mAP50-95): 100%|██████████| 3/3 [00:01<00:00,  2.95it/s]"
     ]
    },
    {
     "name": "stdout",
     "output_type": "stream",
     "text": [
      "                   all         93        523      0.485      0.705      0.542      0.264\n"
     ]
    },
    {
     "name": "stderr",
     "output_type": "stream",
     "text": [
      "\n"
     ]
    },
    {
     "name": "stdout",
     "output_type": "stream",
     "text": [
      "\n",
      "      Epoch    GPU_mem   box_loss   cls_loss   dfl_loss  Instances       Size\n"
     ]
    },
    {
     "name": "stderr",
     "output_type": "stream",
     "text": [
      "      8/100      13.3G      1.657      1.224      1.226         93        640: 100%|██████████| 36/36 [00:14<00:00,  2.54it/s]\n",
      "                 Class     Images  Instances      Box(P          R      mAP50  mAP50-95): 100%|██████████| 3/3 [00:00<00:00,  3.11it/s]"
     ]
    },
    {
     "name": "stdout",
     "output_type": "stream",
     "text": [
      "                   all         93        523      0.601      0.721      0.681      0.353\n"
     ]
    },
    {
     "name": "stderr",
     "output_type": "stream",
     "text": [
      "\n"
     ]
    },
    {
     "name": "stdout",
     "output_type": "stream",
     "text": [
      "\n",
      "      Epoch    GPU_mem   box_loss   cls_loss   dfl_loss  Instances       Size\n"
     ]
    },
    {
     "name": "stderr",
     "output_type": "stream",
     "text": [
      "      9/100      13.2G      1.649      1.195      1.213         68        640: 100%|██████████| 36/36 [00:13<00:00,  2.62it/s]\n",
      "                 Class     Images  Instances      Box(P          R      mAP50  mAP50-95): 100%|██████████| 3/3 [00:00<00:00,  3.24it/s]"
     ]
    },
    {
     "name": "stdout",
     "output_type": "stream",
     "text": [
      "                   all         93        523      0.399       0.68      0.414      0.202\n"
     ]
    },
    {
     "name": "stderr",
     "output_type": "stream",
     "text": [
      "\n"
     ]
    },
    {
     "name": "stdout",
     "output_type": "stream",
     "text": [
      "\n",
      "      Epoch    GPU_mem   box_loss   cls_loss   dfl_loss  Instances       Size\n"
     ]
    },
    {
     "name": "stderr",
     "output_type": "stream",
     "text": [
      "     10/100      13.2G      1.599      1.162      1.207         84        640: 100%|██████████| 36/36 [00:14<00:00,  2.56it/s]\n",
      "                 Class     Images  Instances      Box(P          R      mAP50  mAP50-95): 100%|██████████| 3/3 [00:00<00:00,  3.11it/s]"
     ]
    },
    {
     "name": "stdout",
     "output_type": "stream",
     "text": [
      "                   all         93        523      0.588      0.764      0.698      0.371\n"
     ]
    },
    {
     "name": "stderr",
     "output_type": "stream",
     "text": [
      "\n"
     ]
    },
    {
     "name": "stdout",
     "output_type": "stream",
     "text": [
      "\n",
      "      Epoch    GPU_mem   box_loss   cls_loss   dfl_loss  Instances       Size\n"
     ]
    },
    {
     "name": "stderr",
     "output_type": "stream",
     "text": [
      "     11/100      13.2G      1.614      1.143      1.198         90        640: 100%|██████████| 36/36 [00:13<00:00,  2.62it/s]\n",
      "                 Class     Images  Instances      Box(P          R      mAP50  mAP50-95): 100%|██████████| 3/3 [00:00<00:00,  3.20it/s]"
     ]
    },
    {
     "name": "stdout",
     "output_type": "stream",
     "text": [
      "                   all         93        523      0.625      0.771      0.728      0.361\n"
     ]
    },
    {
     "name": "stderr",
     "output_type": "stream",
     "text": [
      "\n"
     ]
    },
    {
     "name": "stdout",
     "output_type": "stream",
     "text": [
      "\n",
      "      Epoch    GPU_mem   box_loss   cls_loss   dfl_loss  Instances       Size\n"
     ]
    },
    {
     "name": "stderr",
     "output_type": "stream",
     "text": [
      "     12/100      13.2G       1.61      1.095      1.208         47        640: 100%|██████████| 36/36 [00:14<00:00,  2.55it/s]\n",
      "                 Class     Images  Instances      Box(P          R      mAP50  mAP50-95): 100%|██████████| 3/3 [00:00<00:00,  3.13it/s]"
     ]
    },
    {
     "name": "stdout",
     "output_type": "stream",
     "text": [
      "                   all         93        523      0.512      0.595      0.483      0.243\n"
     ]
    },
    {
     "name": "stderr",
     "output_type": "stream",
     "text": [
      "\n"
     ]
    },
    {
     "name": "stdout",
     "output_type": "stream",
     "text": [
      "\n",
      "      Epoch    GPU_mem   box_loss   cls_loss   dfl_loss  Instances       Size\n"
     ]
    },
    {
     "name": "stderr",
     "output_type": "stream",
     "text": [
      "     13/100      13.2G      1.576      1.082      1.187         44        640: 100%|██████████| 36/36 [00:13<00:00,  2.61it/s]\n",
      "                 Class     Images  Instances      Box(P          R      mAP50  mAP50-95): 100%|██████████| 3/3 [00:01<00:00,  2.37it/s]"
     ]
    },
    {
     "name": "stdout",
     "output_type": "stream",
     "text": [
      "                   all         93        523      0.331      0.595       0.37      0.192\n"
     ]
    },
    {
     "name": "stderr",
     "output_type": "stream",
     "text": [
      "\n"
     ]
    },
    {
     "name": "stdout",
     "output_type": "stream",
     "text": [
      "\n",
      "      Epoch    GPU_mem   box_loss   cls_loss   dfl_loss  Instances       Size\n"
     ]
    },
    {
     "name": "stderr",
     "output_type": "stream",
     "text": [
      "     14/100      13.2G      1.572      1.077      1.186         68        640: 100%|██████████| 36/36 [00:13<00:00,  2.62it/s]\n",
      "                 Class     Images  Instances      Box(P          R      mAP50  mAP50-95): 100%|██████████| 3/3 [00:00<00:00,  3.13it/s]"
     ]
    },
    {
     "name": "stdout",
     "output_type": "stream",
     "text": [
      "                   all         93        523      0.577      0.824      0.706      0.376\n"
     ]
    },
    {
     "name": "stderr",
     "output_type": "stream",
     "text": [
      "\n"
     ]
    },
    {
     "name": "stdout",
     "output_type": "stream",
     "text": [
      "\n",
      "      Epoch    GPU_mem   box_loss   cls_loss   dfl_loss  Instances       Size\n"
     ]
    },
    {
     "name": "stderr",
     "output_type": "stream",
     "text": [
      "     15/100      13.2G      1.566      1.043      1.186         67        640: 100%|██████████| 36/36 [00:14<00:00,  2.55it/s]\n",
      "                 Class     Images  Instances      Box(P          R      mAP50  mAP50-95): 100%|██████████| 3/3 [00:00<00:00,  3.02it/s]"
     ]
    },
    {
     "name": "stdout",
     "output_type": "stream",
     "text": [
      "                   all         93        523      0.629      0.714      0.712      0.372\n"
     ]
    },
    {
     "name": "stderr",
     "output_type": "stream",
     "text": [
      "\n"
     ]
    },
    {
     "name": "stdout",
     "output_type": "stream",
     "text": [
      "\n",
      "      Epoch    GPU_mem   box_loss   cls_loss   dfl_loss  Instances       Size\n"
     ]
    },
    {
     "name": "stderr",
     "output_type": "stream",
     "text": [
      "     16/100      13.2G      1.551      1.044      1.178         54        640: 100%|██████████| 36/36 [00:13<00:00,  2.60it/s]\n",
      "                 Class     Images  Instances      Box(P          R      mAP50  mAP50-95): 100%|██████████| 3/3 [00:01<00:00,  2.74it/s]"
     ]
    },
    {
     "name": "stdout",
     "output_type": "stream",
     "text": [
      "                   all         93        523      0.688      0.722      0.758      0.376\n"
     ]
    },
    {
     "name": "stderr",
     "output_type": "stream",
     "text": [
      "\n"
     ]
    },
    {
     "name": "stdout",
     "output_type": "stream",
     "text": [
      "\n",
      "      Epoch    GPU_mem   box_loss   cls_loss   dfl_loss  Instances       Size\n"
     ]
    },
    {
     "name": "stderr",
     "output_type": "stream",
     "text": [
      "     17/100      13.2G      1.528      1.022      1.159        131        640: 100%|██████████| 36/36 [00:13<00:00,  2.57it/s]\n",
      "                 Class     Images  Instances      Box(P          R      mAP50  mAP50-95): 100%|██████████| 3/3 [00:00<00:00,  3.04it/s]"
     ]
    },
    {
     "name": "stdout",
     "output_type": "stream",
     "text": [
      "                   all         93        523       0.66      0.812      0.753      0.393\n"
     ]
    },
    {
     "name": "stderr",
     "output_type": "stream",
     "text": [
      "\n"
     ]
    },
    {
     "name": "stdout",
     "output_type": "stream",
     "text": [
      "\n",
      "      Epoch    GPU_mem   box_loss   cls_loss   dfl_loss  Instances       Size\n"
     ]
    },
    {
     "name": "stderr",
     "output_type": "stream",
     "text": [
      "     18/100      13.3G      1.527     0.9849      1.162         45        640: 100%|██████████| 36/36 [00:13<00:00,  2.63it/s]\n",
      "                 Class     Images  Instances      Box(P          R      mAP50  mAP50-95): 100%|██████████| 3/3 [00:01<00:00,  2.32it/s]"
     ]
    },
    {
     "name": "stdout",
     "output_type": "stream",
     "text": [
      "                   all         93        523      0.627      0.724      0.716      0.368\n"
     ]
    },
    {
     "name": "stderr",
     "output_type": "stream",
     "text": [
      "\n"
     ]
    },
    {
     "name": "stdout",
     "output_type": "stream",
     "text": [
      "\n",
      "      Epoch    GPU_mem   box_loss   cls_loss   dfl_loss  Instances       Size\n"
     ]
    },
    {
     "name": "stderr",
     "output_type": "stream",
     "text": [
      "     19/100      13.2G      1.494     0.9573      1.154         67        640: 100%|██████████| 36/36 [00:13<00:00,  2.64it/s]\n",
      "                 Class     Images  Instances      Box(P          R      mAP50  mAP50-95): 100%|██████████| 3/3 [00:00<00:00,  3.14it/s]"
     ]
    },
    {
     "name": "stdout",
     "output_type": "stream",
     "text": [
      "                   all         93        523      0.669      0.749       0.75      0.399\n"
     ]
    },
    {
     "name": "stderr",
     "output_type": "stream",
     "text": [
      "\n"
     ]
    },
    {
     "name": "stdout",
     "output_type": "stream",
     "text": [
      "\n",
      "      Epoch    GPU_mem   box_loss   cls_loss   dfl_loss  Instances       Size\n"
     ]
    },
    {
     "name": "stderr",
     "output_type": "stream",
     "text": [
      "     20/100      13.2G      1.516     0.9974      1.165         65        640: 100%|██████████| 36/36 [00:13<00:00,  2.58it/s]\n",
      "                 Class     Images  Instances      Box(P          R      mAP50  mAP50-95): 100%|██████████| 3/3 [00:00<00:00,  3.13it/s]"
     ]
    },
    {
     "name": "stdout",
     "output_type": "stream",
     "text": [
      "                   all         93        523      0.605      0.765      0.701      0.357\n"
     ]
    },
    {
     "name": "stderr",
     "output_type": "stream",
     "text": [
      "\n"
     ]
    },
    {
     "name": "stdout",
     "output_type": "stream",
     "text": [
      "\n",
      "      Epoch    GPU_mem   box_loss   cls_loss   dfl_loss  Instances       Size\n"
     ]
    },
    {
     "name": "stderr",
     "output_type": "stream",
     "text": [
      "     21/100      13.2G      1.467     0.9698      1.126         69        640: 100%|██████████| 36/36 [00:14<00:00,  2.57it/s]\n",
      "                 Class     Images  Instances      Box(P          R      mAP50  mAP50-95): 100%|██████████| 3/3 [00:00<00:00,  3.20it/s]"
     ]
    },
    {
     "name": "stdout",
     "output_type": "stream",
     "text": [
      "                   all         93        523      0.499      0.754      0.581      0.301\n"
     ]
    },
    {
     "name": "stderr",
     "output_type": "stream",
     "text": [
      "\n"
     ]
    },
    {
     "name": "stdout",
     "output_type": "stream",
     "text": [
      "\n",
      "      Epoch    GPU_mem   box_loss   cls_loss   dfl_loss  Instances       Size\n"
     ]
    },
    {
     "name": "stderr",
     "output_type": "stream",
     "text": [
      "     22/100      13.1G      1.476     0.9358      1.143         70        640: 100%|██████████| 36/36 [00:14<00:00,  2.53it/s]\n",
      "                 Class     Images  Instances      Box(P          R      mAP50  mAP50-95): 100%|██████████| 3/3 [00:00<00:00,  3.27it/s]"
     ]
    },
    {
     "name": "stdout",
     "output_type": "stream",
     "text": [
      "                   all         93        523       0.59      0.775      0.719      0.369\n"
     ]
    },
    {
     "name": "stderr",
     "output_type": "stream",
     "text": [
      "\n"
     ]
    },
    {
     "name": "stdout",
     "output_type": "stream",
     "text": [
      "\n",
      "      Epoch    GPU_mem   box_loss   cls_loss   dfl_loss  Instances       Size\n"
     ]
    },
    {
     "name": "stderr",
     "output_type": "stream",
     "text": [
      "     23/100      13.2G      1.455     0.9198      1.131         82        640: 100%|██████████| 36/36 [00:13<00:00,  2.61it/s]\n",
      "                 Class     Images  Instances      Box(P          R      mAP50  mAP50-95): 100%|██████████| 3/3 [00:01<00:00,  2.99it/s]"
     ]
    },
    {
     "name": "stdout",
     "output_type": "stream",
     "text": [
      "                   all         93        523      0.605      0.755      0.718      0.376\n"
     ]
    },
    {
     "name": "stderr",
     "output_type": "stream",
     "text": [
      "\n"
     ]
    },
    {
     "name": "stdout",
     "output_type": "stream",
     "text": [
      "\n",
      "      Epoch    GPU_mem   box_loss   cls_loss   dfl_loss  Instances       Size\n"
     ]
    },
    {
     "name": "stderr",
     "output_type": "stream",
     "text": [
      "     24/100      13.2G      1.436     0.9045      1.118         67        640: 100%|██████████| 36/36 [00:14<00:00,  2.54it/s]\n",
      "                 Class     Images  Instances      Box(P          R      mAP50  mAP50-95): 100%|██████████| 3/3 [00:01<00:00,  2.99it/s]"
     ]
    },
    {
     "name": "stdout",
     "output_type": "stream",
     "text": [
      "                   all         93        523      0.646      0.775      0.725      0.391\n"
     ]
    },
    {
     "name": "stderr",
     "output_type": "stream",
     "text": [
      "\n"
     ]
    },
    {
     "name": "stdout",
     "output_type": "stream",
     "text": [
      "\n",
      "      Epoch    GPU_mem   box_loss   cls_loss   dfl_loss  Instances       Size\n"
     ]
    },
    {
     "name": "stderr",
     "output_type": "stream",
     "text": [
      "     25/100      13.3G      1.429     0.8815      1.119         64        640: 100%|██████████| 36/36 [00:13<00:00,  2.59it/s]\n",
      "                 Class     Images  Instances      Box(P          R      mAP50  mAP50-95): 100%|██████████| 3/3 [00:01<00:00,  2.16it/s]"
     ]
    },
    {
     "name": "stdout",
     "output_type": "stream",
     "text": [
      "                   all         93        523      0.667      0.762      0.733      0.386\n"
     ]
    },
    {
     "name": "stderr",
     "output_type": "stream",
     "text": [
      "\n"
     ]
    },
    {
     "name": "stdout",
     "output_type": "stream",
     "text": [
      "\n",
      "      Epoch    GPU_mem   box_loss   cls_loss   dfl_loss  Instances       Size\n"
     ]
    },
    {
     "name": "stderr",
     "output_type": "stream",
     "text": [
      "     26/100      13.1G      1.382     0.8533      1.108         47        640: 100%|██████████| 36/36 [00:13<00:00,  2.61it/s]\n",
      "                 Class     Images  Instances      Box(P          R      mAP50  mAP50-95): 100%|██████████| 3/3 [00:01<00:00,  2.99it/s]"
     ]
    },
    {
     "name": "stdout",
     "output_type": "stream",
     "text": [
      "                   all         93        523      0.662      0.728      0.702      0.371\n"
     ]
    },
    {
     "name": "stderr",
     "output_type": "stream",
     "text": [
      "\n"
     ]
    },
    {
     "name": "stdout",
     "output_type": "stream",
     "text": [
      "\n",
      "      Epoch    GPU_mem   box_loss   cls_loss   dfl_loss  Instances       Size\n"
     ]
    },
    {
     "name": "stderr",
     "output_type": "stream",
     "text": [
      "     27/100      13.2G       1.39     0.8454      1.106         80        640: 100%|██████████| 36/36 [00:14<00:00,  2.55it/s]\n",
      "                 Class     Images  Instances      Box(P          R      mAP50  mAP50-95): 100%|██████████| 3/3 [00:00<00:00,  3.26it/s]"
     ]
    },
    {
     "name": "stdout",
     "output_type": "stream",
     "text": [
      "                   all         93        523      0.675      0.747      0.751      0.392\n"
     ]
    },
    {
     "name": "stderr",
     "output_type": "stream",
     "text": [
      "\n"
     ]
    },
    {
     "name": "stdout",
     "output_type": "stream",
     "text": [
      "\n",
      "      Epoch    GPU_mem   box_loss   cls_loss   dfl_loss  Instances       Size\n"
     ]
    },
    {
     "name": "stderr",
     "output_type": "stream",
     "text": [
      "     28/100      13.2G       1.37     0.8182        1.1         65        640: 100%|██████████| 36/36 [00:13<00:00,  2.60it/s]\n",
      "                 Class     Images  Instances      Box(P          R      mAP50  mAP50-95): 100%|██████████| 3/3 [00:00<00:00,  3.24it/s]"
     ]
    },
    {
     "name": "stdout",
     "output_type": "stream",
     "text": [
      "                   all         93        523      0.682      0.789      0.784      0.417\n"
     ]
    },
    {
     "name": "stderr",
     "output_type": "stream",
     "text": [
      "\n"
     ]
    },
    {
     "name": "stdout",
     "output_type": "stream",
     "text": [
      "\n",
      "      Epoch    GPU_mem   box_loss   cls_loss   dfl_loss  Instances       Size\n"
     ]
    },
    {
     "name": "stderr",
     "output_type": "stream",
     "text": [
      "     29/100      13.2G       1.34     0.8204      1.083         65        640: 100%|██████████| 36/36 [00:14<00:00,  2.52it/s]\n",
      "                 Class     Images  Instances      Box(P          R      mAP50  mAP50-95): 100%|██████████| 3/3 [00:00<00:00,  3.19it/s]"
     ]
    },
    {
     "name": "stdout",
     "output_type": "stream",
     "text": [
      "                   all         93        523      0.719      0.709      0.771      0.401\n"
     ]
    },
    {
     "name": "stderr",
     "output_type": "stream",
     "text": [
      "\n"
     ]
    },
    {
     "name": "stdout",
     "output_type": "stream",
     "text": [
      "\n",
      "      Epoch    GPU_mem   box_loss   cls_loss   dfl_loss  Instances       Size\n"
     ]
    },
    {
     "name": "stderr",
     "output_type": "stream",
     "text": [
      "     30/100      13.2G       1.36     0.8128      1.069         99        640: 100%|██████████| 36/36 [00:13<00:00,  2.62it/s]\n",
      "                 Class     Images  Instances      Box(P          R      mAP50  mAP50-95): 100%|██████████| 3/3 [00:00<00:00,  3.03it/s]"
     ]
    },
    {
     "name": "stdout",
     "output_type": "stream",
     "text": [
      "                   all         93        523      0.652      0.793      0.733      0.393\n"
     ]
    },
    {
     "name": "stderr",
     "output_type": "stream",
     "text": [
      "\n"
     ]
    },
    {
     "name": "stdout",
     "output_type": "stream",
     "text": [
      "\n",
      "      Epoch    GPU_mem   box_loss   cls_loss   dfl_loss  Instances       Size\n"
     ]
    },
    {
     "name": "stderr",
     "output_type": "stream",
     "text": [
      "     31/100      13.3G      1.331     0.7857      1.086         50        640: 100%|██████████| 36/36 [00:13<00:00,  2.59it/s]\n",
      "                 Class     Images  Instances      Box(P          R      mAP50  mAP50-95): 100%|██████████| 3/3 [00:00<00:00,  3.20it/s]"
     ]
    },
    {
     "name": "stdout",
     "output_type": "stream",
     "text": [
      "                   all         93        523      0.687      0.729       0.75       0.39\n"
     ]
    },
    {
     "name": "stderr",
     "output_type": "stream",
     "text": [
      "\n"
     ]
    },
    {
     "name": "stdout",
     "output_type": "stream",
     "text": [
      "\n",
      "      Epoch    GPU_mem   box_loss   cls_loss   dfl_loss  Instances       Size\n"
     ]
    },
    {
     "name": "stderr",
     "output_type": "stream",
     "text": [
      "     32/100      13.2G      1.308       0.77      1.082         61        640: 100%|██████████| 36/36 [00:14<00:00,  2.56it/s]\n",
      "                 Class     Images  Instances      Box(P          R      mAP50  mAP50-95): 100%|██████████| 3/3 [00:01<00:00,  2.69it/s]"
     ]
    },
    {
     "name": "stdout",
     "output_type": "stream",
     "text": [
      "                   all         93        523      0.695      0.805      0.796      0.415\n"
     ]
    },
    {
     "name": "stderr",
     "output_type": "stream",
     "text": [
      "\n"
     ]
    },
    {
     "name": "stdout",
     "output_type": "stream",
     "text": [
      "\n",
      "      Epoch    GPU_mem   box_loss   cls_loss   dfl_loss  Instances       Size\n"
     ]
    },
    {
     "name": "stderr",
     "output_type": "stream",
     "text": [
      "     33/100      13.2G      1.294     0.7499      1.076         80        640: 100%|██████████| 36/36 [00:13<00:00,  2.60it/s]\n",
      "                 Class     Images  Instances      Box(P          R      mAP50  mAP50-95): 100%|██████████| 3/3 [00:00<00:00,  3.31it/s]"
     ]
    },
    {
     "name": "stdout",
     "output_type": "stream",
     "text": [
      "                   all         93        523      0.668      0.778      0.755      0.381\n"
     ]
    },
    {
     "name": "stderr",
     "output_type": "stream",
     "text": [
      "\n"
     ]
    },
    {
     "name": "stdout",
     "output_type": "stream",
     "text": [
      "\n",
      "      Epoch    GPU_mem   box_loss   cls_loss   dfl_loss  Instances       Size\n"
     ]
    },
    {
     "name": "stderr",
     "output_type": "stream",
     "text": [
      "     34/100      13.2G      1.291     0.7523      1.074         49        640: 100%|██████████| 36/36 [00:14<00:00,  2.54it/s]\n",
      "                 Class     Images  Instances      Box(P          R      mAP50  mAP50-95): 100%|██████████| 3/3 [00:00<00:00,  3.11it/s]"
     ]
    },
    {
     "name": "stdout",
     "output_type": "stream",
     "text": [
      "                   all         93        523       0.64      0.736      0.749       0.39\n"
     ]
    },
    {
     "name": "stderr",
     "output_type": "stream",
     "text": [
      "\n"
     ]
    },
    {
     "name": "stdout",
     "output_type": "stream",
     "text": [
      "\n",
      "      Epoch    GPU_mem   box_loss   cls_loss   dfl_loss  Instances       Size\n"
     ]
    },
    {
     "name": "stderr",
     "output_type": "stream",
     "text": [
      "     35/100      13.2G       1.28     0.7542      1.058         85        640: 100%|██████████| 36/36 [00:13<00:00,  2.64it/s]\n",
      "                 Class     Images  Instances      Box(P          R      mAP50  mAP50-95): 100%|██████████| 3/3 [00:01<00:00,  2.70it/s]"
     ]
    },
    {
     "name": "stdout",
     "output_type": "stream",
     "text": [
      "                   all         93        523      0.662      0.709       0.74      0.386\n"
     ]
    },
    {
     "name": "stderr",
     "output_type": "stream",
     "text": [
      "\n"
     ]
    },
    {
     "name": "stdout",
     "output_type": "stream",
     "text": [
      "\n",
      "      Epoch    GPU_mem   box_loss   cls_loss   dfl_loss  Instances       Size\n"
     ]
    },
    {
     "name": "stderr",
     "output_type": "stream",
     "text": [
      "     36/100      13.2G      1.257     0.7314      1.072         47        640: 100%|██████████| 36/36 [00:14<00:00,  2.56it/s]\n",
      "                 Class     Images  Instances      Box(P          R      mAP50  mAP50-95): 100%|██████████| 3/3 [00:00<00:00,  3.27it/s]"
     ]
    },
    {
     "name": "stdout",
     "output_type": "stream",
     "text": [
      "                   all         93        523      0.683      0.771      0.805      0.425\n"
     ]
    },
    {
     "name": "stderr",
     "output_type": "stream",
     "text": [
      "\n"
     ]
    },
    {
     "name": "stdout",
     "output_type": "stream",
     "text": [
      "\n",
      "      Epoch    GPU_mem   box_loss   cls_loss   dfl_loss  Instances       Size\n"
     ]
    },
    {
     "name": "stderr",
     "output_type": "stream",
     "text": [
      "     37/100      13.2G      1.207     0.6878      1.037         52        640: 100%|██████████| 36/36 [00:13<00:00,  2.60it/s]\n",
      "                 Class     Images  Instances      Box(P          R      mAP50  mAP50-95): 100%|██████████| 3/3 [00:00<00:00,  3.27it/s]"
     ]
    },
    {
     "name": "stdout",
     "output_type": "stream",
     "text": [
      "                   all         93        523      0.686      0.785      0.776      0.394\n"
     ]
    },
    {
     "name": "stderr",
     "output_type": "stream",
     "text": [
      "\n"
     ]
    },
    {
     "name": "stdout",
     "output_type": "stream",
     "text": [
      "\n",
      "      Epoch    GPU_mem   box_loss   cls_loss   dfl_loss  Instances       Size\n"
     ]
    },
    {
     "name": "stderr",
     "output_type": "stream",
     "text": [
      "     38/100      13.2G      1.199     0.6905      1.036         96        640: 100%|██████████| 36/36 [00:13<00:00,  2.63it/s]\n",
      "                 Class     Images  Instances      Box(P          R      mAP50  mAP50-95): 100%|██████████| 3/3 [00:00<00:00,  3.34it/s]"
     ]
    },
    {
     "name": "stdout",
     "output_type": "stream",
     "text": [
      "                   all         93        523      0.715      0.697      0.753      0.383\n"
     ]
    },
    {
     "name": "stderr",
     "output_type": "stream",
     "text": [
      "\n"
     ]
    },
    {
     "name": "stdout",
     "output_type": "stream",
     "text": [
      "\n",
      "      Epoch    GPU_mem   box_loss   cls_loss   dfl_loss  Instances       Size\n"
     ]
    },
    {
     "name": "stderr",
     "output_type": "stream",
     "text": [
      "     39/100      13.2G      1.175     0.6539      1.022         72        640: 100%|██████████| 36/36 [00:14<00:00,  2.54it/s]\n",
      "                 Class     Images  Instances      Box(P          R      mAP50  mAP50-95): 100%|██████████| 3/3 [00:01<00:00,  2.89it/s]"
     ]
    },
    {
     "name": "stdout",
     "output_type": "stream",
     "text": [
      "                   all         93        523      0.706      0.763      0.787      0.414\n"
     ]
    },
    {
     "name": "stderr",
     "output_type": "stream",
     "text": [
      "\n"
     ]
    },
    {
     "name": "stdout",
     "output_type": "stream",
     "text": [
      "\n",
      "      Epoch    GPU_mem   box_loss   cls_loss   dfl_loss  Instances       Size\n"
     ]
    },
    {
     "name": "stderr",
     "output_type": "stream",
     "text": [
      "     40/100      13.2G      1.153     0.6611      1.023         64        640: 100%|██████████| 36/36 [00:13<00:00,  2.65it/s]\n",
      "                 Class     Images  Instances      Box(P          R      mAP50  mAP50-95): 100%|██████████| 3/3 [00:00<00:00,  3.25it/s]"
     ]
    },
    {
     "name": "stdout",
     "output_type": "stream",
     "text": [
      "                   all         93        523      0.714      0.745      0.767      0.393\n"
     ]
    },
    {
     "name": "stderr",
     "output_type": "stream",
     "text": [
      "\n"
     ]
    },
    {
     "name": "stdout",
     "output_type": "stream",
     "text": [
      "\n",
      "      Epoch    GPU_mem   box_loss   cls_loss   dfl_loss  Instances       Size\n"
     ]
    },
    {
     "name": "stderr",
     "output_type": "stream",
     "text": [
      "     41/100      13.3G      1.157     0.6584      1.015         80        640: 100%|██████████| 36/36 [00:14<00:00,  2.57it/s]\n",
      "                 Class     Images  Instances      Box(P          R      mAP50  mAP50-95): 100%|██████████| 3/3 [00:00<00:00,  3.19it/s]"
     ]
    },
    {
     "name": "stdout",
     "output_type": "stream",
     "text": [
      "                   all         93        523      0.699      0.736      0.763      0.387\n"
     ]
    },
    {
     "name": "stderr",
     "output_type": "stream",
     "text": [
      "\n"
     ]
    },
    {
     "name": "stdout",
     "output_type": "stream",
     "text": [
      "\n",
      "      Epoch    GPU_mem   box_loss   cls_loss   dfl_loss  Instances       Size\n"
     ]
    },
    {
     "name": "stderr",
     "output_type": "stream",
     "text": [
      "     42/100      13.2G      1.122     0.6378       1.01         83        640: 100%|██████████| 36/36 [00:13<00:00,  2.59it/s]\n",
      "                 Class     Images  Instances      Box(P          R      mAP50  mAP50-95): 100%|██████████| 3/3 [00:00<00:00,  3.31it/s]"
     ]
    },
    {
     "name": "stdout",
     "output_type": "stream",
     "text": [
      "                   all         93        523      0.624      0.838      0.769      0.393\n"
     ]
    },
    {
     "name": "stderr",
     "output_type": "stream",
     "text": [
      "\n"
     ]
    },
    {
     "name": "stdout",
     "output_type": "stream",
     "text": [
      "\n",
      "      Epoch    GPU_mem   box_loss   cls_loss   dfl_loss  Instances       Size\n"
     ]
    },
    {
     "name": "stderr",
     "output_type": "stream",
     "text": [
      "     43/100      13.2G      1.109     0.6232      1.008         58        640: 100%|██████████| 36/36 [00:14<00:00,  2.54it/s]\n",
      "                 Class     Images  Instances      Box(P          R      mAP50  mAP50-95): 100%|██████████| 3/3 [00:00<00:00,  3.07it/s]"
     ]
    },
    {
     "name": "stdout",
     "output_type": "stream",
     "text": [
      "                   all         93        523      0.738      0.727      0.781      0.407\n"
     ]
    },
    {
     "name": "stderr",
     "output_type": "stream",
     "text": [
      "\n"
     ]
    },
    {
     "name": "stdout",
     "output_type": "stream",
     "text": [
      "\n",
      "      Epoch    GPU_mem   box_loss   cls_loss   dfl_loss  Instances       Size\n"
     ]
    },
    {
     "name": "stderr",
     "output_type": "stream",
     "text": [
      "     44/100      13.2G      1.091     0.6128     0.9918         68        640: 100%|██████████| 36/36 [00:13<00:00,  2.64it/s]\n",
      "                 Class     Images  Instances      Box(P          R      mAP50  mAP50-95): 100%|██████████| 3/3 [00:00<00:00,  3.09it/s]"
     ]
    },
    {
     "name": "stdout",
     "output_type": "stream",
     "text": [
      "                   all         93        523      0.685      0.795      0.769      0.399\n"
     ]
    },
    {
     "name": "stderr",
     "output_type": "stream",
     "text": [
      "\n"
     ]
    },
    {
     "name": "stdout",
     "output_type": "stream",
     "text": [
      "\n",
      "      Epoch    GPU_mem   box_loss   cls_loss   dfl_loss  Instances       Size\n"
     ]
    },
    {
     "name": "stderr",
     "output_type": "stream",
     "text": [
      "     45/100      13.2G      1.099     0.6035      0.984         81        640: 100%|██████████| 36/36 [00:13<00:00,  2.63it/s]\n",
      "                 Class     Images  Instances      Box(P          R      mAP50  mAP50-95): 100%|██████████| 3/3 [00:00<00:00,  3.32it/s]"
     ]
    },
    {
     "name": "stdout",
     "output_type": "stream",
     "text": [
      "                   all         93        523      0.669      0.804      0.774      0.413\n"
     ]
    },
    {
     "name": "stderr",
     "output_type": "stream",
     "text": [
      "\n"
     ]
    },
    {
     "name": "stdout",
     "output_type": "stream",
     "text": [
      "\n",
      "      Epoch    GPU_mem   box_loss   cls_loss   dfl_loss  Instances       Size\n"
     ]
    },
    {
     "name": "stderr",
     "output_type": "stream",
     "text": [
      "     46/100      13.2G      1.057     0.5873     0.9943         64        640: 100%|██████████| 36/36 [00:14<00:00,  2.56it/s]\n",
      "                 Class     Images  Instances      Box(P          R      mAP50  mAP50-95): 100%|██████████| 3/3 [00:01<00:00,  2.88it/s]"
     ]
    },
    {
     "name": "stdout",
     "output_type": "stream",
     "text": [
      "                   all         93        523      0.702      0.748      0.784      0.396\n"
     ]
    },
    {
     "name": "stderr",
     "output_type": "stream",
     "text": [
      "\n"
     ]
    },
    {
     "name": "stdout",
     "output_type": "stream",
     "text": [
      "\n",
      "      Epoch    GPU_mem   box_loss   cls_loss   dfl_loss  Instances       Size\n"
     ]
    },
    {
     "name": "stderr",
     "output_type": "stream",
     "text": [
      "     47/100      13.3G      1.059     0.5928     0.9831         55        640: 100%|██████████| 36/36 [00:13<00:00,  2.61it/s]\n",
      "                 Class     Images  Instances      Box(P          R      mAP50  mAP50-95): 100%|██████████| 3/3 [00:00<00:00,  3.08it/s]"
     ]
    },
    {
     "name": "stdout",
     "output_type": "stream",
     "text": [
      "                   all         93        523      0.673      0.774      0.759      0.385\n"
     ]
    },
    {
     "name": "stderr",
     "output_type": "stream",
     "text": [
      "\n"
     ]
    },
    {
     "name": "stdout",
     "output_type": "stream",
     "text": [
      "\n",
      "      Epoch    GPU_mem   box_loss   cls_loss   dfl_loss  Instances       Size\n"
     ]
    },
    {
     "name": "stderr",
     "output_type": "stream",
     "text": [
      "     48/100      13.2G      1.007       0.57     0.9731         84        640: 100%|██████████| 36/36 [00:14<00:00,  2.56it/s]\n",
      "                 Class     Images  Instances      Box(P          R      mAP50  mAP50-95): 100%|██████████| 3/3 [00:00<00:00,  3.13it/s]"
     ]
    },
    {
     "name": "stdout",
     "output_type": "stream",
     "text": [
      "                   all         93        523      0.673      0.823      0.775      0.403\n"
     ]
    },
    {
     "name": "stderr",
     "output_type": "stream",
     "text": [
      "\n"
     ]
    },
    {
     "name": "stdout",
     "output_type": "stream",
     "text": [
      "\n",
      "      Epoch    GPU_mem   box_loss   cls_loss   dfl_loss  Instances       Size\n"
     ]
    },
    {
     "name": "stderr",
     "output_type": "stream",
     "text": [
      "     49/100      13.2G      1.022     0.5652      0.963         73        640: 100%|██████████| 36/36 [00:13<00:00,  2.64it/s]\n",
      "                 Class     Images  Instances      Box(P          R      mAP50  mAP50-95): 100%|██████████| 3/3 [00:00<00:00,  3.09it/s]"
     ]
    },
    {
     "name": "stdout",
     "output_type": "stream",
     "text": [
      "                   all         93        523      0.671       0.77      0.777      0.403\n"
     ]
    },
    {
     "name": "stderr",
     "output_type": "stream",
     "text": [
      "\n"
     ]
    },
    {
     "name": "stdout",
     "output_type": "stream",
     "text": [
      "\n",
      "      Epoch    GPU_mem   box_loss   cls_loss   dfl_loss  Instances       Size\n"
     ]
    },
    {
     "name": "stderr",
     "output_type": "stream",
     "text": [
      "     50/100      13.2G     0.9857     0.5451      0.969         77        640: 100%|██████████| 36/36 [00:14<00:00,  2.55it/s]\n",
      "                 Class     Images  Instances      Box(P          R      mAP50  mAP50-95): 100%|██████████| 3/3 [00:00<00:00,  3.11it/s]"
     ]
    },
    {
     "name": "stdout",
     "output_type": "stream",
     "text": [
      "                   all         93        523      0.666      0.764       0.76      0.392\n"
     ]
    },
    {
     "name": "stderr",
     "output_type": "stream",
     "text": [
      "\n"
     ]
    },
    {
     "name": "stdout",
     "output_type": "stream",
     "text": [
      "\n",
      "      Epoch    GPU_mem   box_loss   cls_loss   dfl_loss  Instances       Size\n"
     ]
    },
    {
     "name": "stderr",
     "output_type": "stream",
     "text": [
      "     51/100      13.1G     0.9712     0.5227     0.9559         88        640: 100%|██████████| 36/36 [00:13<00:00,  2.63it/s]\n",
      "                 Class     Images  Instances      Box(P          R      mAP50  mAP50-95): 100%|██████████| 3/3 [00:00<00:00,  3.07it/s]"
     ]
    },
    {
     "name": "stdout",
     "output_type": "stream",
     "text": [
      "                   all         93        523        0.7      0.765      0.765      0.381\n"
     ]
    },
    {
     "name": "stderr",
     "output_type": "stream",
     "text": [
      "\n"
     ]
    },
    {
     "name": "stdout",
     "output_type": "stream",
     "text": [
      "\n",
      "      Epoch    GPU_mem   box_loss   cls_loss   dfl_loss  Instances       Size\n"
     ]
    },
    {
     "name": "stderr",
     "output_type": "stream",
     "text": [
      "     52/100      13.2G      0.957     0.5264      0.947         50        640: 100%|██████████| 36/36 [00:13<00:00,  2.59it/s]\n",
      "                 Class     Images  Instances      Box(P          R      mAP50  mAP50-95): 100%|██████████| 3/3 [00:00<00:00,  3.18it/s]"
     ]
    },
    {
     "name": "stdout",
     "output_type": "stream",
     "text": [
      "                   all         93        523       0.68      0.736      0.734      0.378\n"
     ]
    },
    {
     "name": "stderr",
     "output_type": "stream",
     "text": [
      "\n"
     ]
    },
    {
     "name": "stdout",
     "output_type": "stream",
     "text": [
      "\n",
      "      Epoch    GPU_mem   box_loss   cls_loss   dfl_loss  Instances       Size\n"
     ]
    },
    {
     "name": "stderr",
     "output_type": "stream",
     "text": [
      "     53/100      13.2G     0.9275     0.5139     0.9381         44        640: 100%|██████████| 36/36 [00:14<00:00,  2.54it/s]\n",
      "                 Class     Images  Instances      Box(P          R      mAP50  mAP50-95): 100%|██████████| 3/3 [00:00<00:00,  3.23it/s]"
     ]
    },
    {
     "name": "stdout",
     "output_type": "stream",
     "text": [
      "                   all         93        523      0.684      0.778      0.785      0.411\n"
     ]
    },
    {
     "name": "stderr",
     "output_type": "stream",
     "text": [
      "\n"
     ]
    },
    {
     "name": "stdout",
     "output_type": "stream",
     "text": [
      "\n",
      "      Epoch    GPU_mem   box_loss   cls_loss   dfl_loss  Instances       Size\n"
     ]
    },
    {
     "name": "stderr",
     "output_type": "stream",
     "text": [
      "     54/100      13.2G     0.9415     0.5157     0.9462         91        640: 100%|██████████| 36/36 [00:13<00:00,  2.60it/s]\n",
      "                 Class     Images  Instances      Box(P          R      mAP50  mAP50-95): 100%|██████████| 3/3 [00:00<00:00,  3.15it/s]"
     ]
    },
    {
     "name": "stdout",
     "output_type": "stream",
     "text": [
      "                   all         93        523      0.686      0.742      0.769      0.401\n"
     ]
    },
    {
     "name": "stderr",
     "output_type": "stream",
     "text": [
      "\n"
     ]
    },
    {
     "name": "stdout",
     "output_type": "stream",
     "text": [
      "\n",
      "      Epoch    GPU_mem   box_loss   cls_loss   dfl_loss  Instances       Size\n"
     ]
    },
    {
     "name": "stderr",
     "output_type": "stream",
     "text": [
      "     55/100      13.2G      0.928     0.5107     0.9517         38        640: 100%|██████████| 36/36 [00:13<00:00,  2.57it/s]\n",
      "                 Class     Images  Instances      Box(P          R      mAP50  mAP50-95): 100%|██████████| 3/3 [00:00<00:00,  3.01it/s]"
     ]
    },
    {
     "name": "stdout",
     "output_type": "stream",
     "text": [
      "                   all         93        523      0.668      0.777      0.771      0.397\n"
     ]
    },
    {
     "name": "stderr",
     "output_type": "stream",
     "text": [
      "\n"
     ]
    },
    {
     "name": "stdout",
     "output_type": "stream",
     "text": [
      "\n",
      "      Epoch    GPU_mem   box_loss   cls_loss   dfl_loss  Instances       Size\n"
     ]
    },
    {
     "name": "stderr",
     "output_type": "stream",
     "text": [
      "     56/100      13.3G     0.8879     0.4893     0.9288         73        640: 100%|██████████| 36/36 [00:13<00:00,  2.62it/s]\n",
      "                 Class     Images  Instances      Box(P          R      mAP50  mAP50-95): 100%|██████████| 3/3 [00:01<00:00,  2.94it/s]"
     ]
    },
    {
     "name": "stdout",
     "output_type": "stream",
     "text": [
      "                   all         93        523      0.681      0.752      0.764      0.399\n"
     ]
    },
    {
     "name": "stderr",
     "output_type": "stream",
     "text": [
      "\n"
     ]
    },
    {
     "name": "stdout",
     "output_type": "stream",
     "text": [
      "\n",
      "      Epoch    GPU_mem   box_loss   cls_loss   dfl_loss  Instances       Size\n"
     ]
    },
    {
     "name": "stderr",
     "output_type": "stream",
     "text": [
      "     57/100      13.2G     0.8691     0.4826     0.9241         68        640: 100%|██████████| 36/36 [00:14<00:00,  2.57it/s]\n",
      "                 Class     Images  Instances      Box(P          R      mAP50  mAP50-95): 100%|██████████| 3/3 [00:00<00:00,  3.09it/s]"
     ]
    },
    {
     "name": "stdout",
     "output_type": "stream",
     "text": [
      "                   all         93        523      0.681      0.722      0.753      0.394\n"
     ]
    },
    {
     "name": "stderr",
     "output_type": "stream",
     "text": [
      "\n"
     ]
    },
    {
     "name": "stdout",
     "output_type": "stream",
     "text": [
      "\n",
      "      Epoch    GPU_mem   box_loss   cls_loss   dfl_loss  Instances       Size\n"
     ]
    },
    {
     "name": "stderr",
     "output_type": "stream",
     "text": [
      "     58/100      13.2G     0.8873     0.4929     0.9328        101        640: 100%|██████████| 36/36 [00:13<00:00,  2.62it/s]\n",
      "                 Class     Images  Instances      Box(P          R      mAP50  mAP50-95): 100%|██████████| 3/3 [00:01<00:00,  2.96it/s]"
     ]
    },
    {
     "name": "stdout",
     "output_type": "stream",
     "text": [
      "                   all         93        523      0.638      0.753      0.752      0.393\n"
     ]
    },
    {
     "name": "stderr",
     "output_type": "stream",
     "text": [
      "\n"
     ]
    },
    {
     "name": "stdout",
     "output_type": "stream",
     "text": [
      "\n",
      "      Epoch    GPU_mem   box_loss   cls_loss   dfl_loss  Instances       Size\n"
     ]
    },
    {
     "name": "stderr",
     "output_type": "stream",
     "text": [
      "     59/100      13.2G     0.8477     0.4697     0.9157         57        640: 100%|██████████| 36/36 [00:13<00:00,  2.60it/s]\n",
      "                 Class     Images  Instances      Box(P          R      mAP50  mAP50-95): 100%|██████████| 3/3 [00:00<00:00,  3.08it/s]"
     ]
    },
    {
     "name": "stdout",
     "output_type": "stream",
     "text": [
      "                   all         93        523      0.674      0.707      0.728      0.388\n"
     ]
    },
    {
     "name": "stderr",
     "output_type": "stream",
     "text": [
      "\n"
     ]
    },
    {
     "name": "stdout",
     "output_type": "stream",
     "text": [
      "\n",
      "      Epoch    GPU_mem   box_loss   cls_loss   dfl_loss  Instances       Size\n"
     ]
    },
    {
     "name": "stderr",
     "output_type": "stream",
     "text": [
      "     60/100      13.2G     0.8494     0.4652      0.913         58        640: 100%|██████████| 36/36 [00:14<00:00,  2.56it/s]\n",
      "                 Class     Images  Instances      Box(P          R      mAP50  mAP50-95): 100%|██████████| 3/3 [00:00<00:00,  3.08it/s]"
     ]
    },
    {
     "name": "stdout",
     "output_type": "stream",
     "text": [
      "                   all         93        523      0.665      0.745      0.738      0.384\n"
     ]
    },
    {
     "name": "stderr",
     "output_type": "stream",
     "text": [
      "\n"
     ]
    },
    {
     "name": "stdout",
     "output_type": "stream",
     "text": [
      "\n",
      "      Epoch    GPU_mem   box_loss   cls_loss   dfl_loss  Instances       Size\n"
     ]
    },
    {
     "name": "stderr",
     "output_type": "stream",
     "text": [
      "     61/100      13.1G     0.8405     0.4674     0.9183         60        640: 100%|██████████| 36/36 [00:13<00:00,  2.64it/s]\n",
      "                 Class     Images  Instances      Box(P          R      mAP50  mAP50-95): 100%|██████████| 3/3 [00:01<00:00,  2.96it/s]"
     ]
    },
    {
     "name": "stdout",
     "output_type": "stream",
     "text": [
      "                   all         93        523      0.634      0.811      0.764      0.404\n"
     ]
    },
    {
     "name": "stderr",
     "output_type": "stream",
     "text": [
      "\n"
     ]
    },
    {
     "name": "stdout",
     "output_type": "stream",
     "text": [
      "\n",
      "      Epoch    GPU_mem   box_loss   cls_loss   dfl_loss  Instances       Size\n"
     ]
    },
    {
     "name": "stderr",
     "output_type": "stream",
     "text": [
      "     62/100      13.2G     0.8232     0.4584     0.9148         43        640: 100%|██████████| 36/36 [00:14<00:00,  2.51it/s]\n",
      "                 Class     Images  Instances      Box(P          R      mAP50  mAP50-95): 100%|██████████| 3/3 [00:00<00:00,  3.17it/s]"
     ]
    },
    {
     "name": "stdout",
     "output_type": "stream",
     "text": [
      "                   all         93        523      0.687      0.749       0.74      0.388\n"
     ]
    },
    {
     "name": "stderr",
     "output_type": "stream",
     "text": [
      "\n"
     ]
    },
    {
     "name": "stdout",
     "output_type": "stream",
     "text": [
      "\n",
      "      Epoch    GPU_mem   box_loss   cls_loss   dfl_loss  Instances       Size\n"
     ]
    },
    {
     "name": "stderr",
     "output_type": "stream",
     "text": [
      "     63/100      13.2G     0.8117     0.4555     0.9088         76        640: 100%|██████████| 36/36 [00:13<00:00,  2.63it/s]\n",
      "                 Class     Images  Instances      Box(P          R      mAP50  mAP50-95): 100%|██████████| 3/3 [00:00<00:00,  3.33it/s]"
     ]
    },
    {
     "name": "stdout",
     "output_type": "stream",
     "text": [
      "                   all         93        523      0.645      0.828      0.764      0.399\n"
     ]
    },
    {
     "name": "stderr",
     "output_type": "stream",
     "text": [
      "\n"
     ]
    },
    {
     "name": "stdout",
     "output_type": "stream",
     "text": [
      "\n",
      "      Epoch    GPU_mem   box_loss   cls_loss   dfl_loss  Instances       Size\n"
     ]
    },
    {
     "name": "stderr",
     "output_type": "stream",
     "text": [
      "     64/100      13.2G     0.7745     0.4369     0.8947         62        640: 100%|██████████| 36/36 [00:13<00:00,  2.58it/s]\n",
      "                 Class     Images  Instances      Box(P          R      mAP50  mAP50-95): 100%|██████████| 3/3 [00:00<00:00,  3.05it/s]"
     ]
    },
    {
     "name": "stdout",
     "output_type": "stream",
     "text": [
      "                   all         93        523      0.682      0.764      0.737      0.378\n"
     ]
    },
    {
     "name": "stderr",
     "output_type": "stream",
     "text": [
      "\n"
     ]
    },
    {
     "name": "stdout",
     "output_type": "stream",
     "text": [
      "\n",
      "      Epoch    GPU_mem   box_loss   cls_loss   dfl_loss  Instances       Size\n"
     ]
    },
    {
     "name": "stderr",
     "output_type": "stream",
     "text": [
      "     65/100      13.2G     0.8017     0.4419     0.8987         88        640: 100%|██████████| 36/36 [00:13<00:00,  2.62it/s]\n",
      "                 Class     Images  Instances      Box(P          R      mAP50  mAP50-95): 100%|██████████| 3/3 [00:00<00:00,  3.03it/s]"
     ]
    },
    {
     "name": "stdout",
     "output_type": "stream",
     "text": [
      "                   all         93        523      0.708      0.701      0.744      0.393\n"
     ]
    },
    {
     "name": "stderr",
     "output_type": "stream",
     "text": [
      "\n"
     ]
    },
    {
     "name": "stdout",
     "output_type": "stream",
     "text": [
      "\n",
      "      Epoch    GPU_mem   box_loss   cls_loss   dfl_loss  Instances       Size\n"
     ]
    },
    {
     "name": "stderr",
     "output_type": "stream",
     "text": [
      "     66/100      13.1G     0.7845     0.4278     0.8951         94        640: 100%|██████████| 36/36 [00:14<00:00,  2.56it/s]\n",
      "                 Class     Images  Instances      Box(P          R      mAP50  mAP50-95): 100%|██████████| 3/3 [00:01<00:00,  2.87it/s]"
     ]
    },
    {
     "name": "stdout",
     "output_type": "stream",
     "text": [
      "                   all         93        523      0.721      0.713      0.748      0.398\n"
     ]
    },
    {
     "name": "stderr",
     "output_type": "stream",
     "text": [
      "\n"
     ]
    },
    {
     "name": "stdout",
     "output_type": "stream",
     "text": [
      "\n",
      "      Epoch    GPU_mem   box_loss   cls_loss   dfl_loss  Instances       Size\n"
     ]
    },
    {
     "name": "stderr",
     "output_type": "stream",
     "text": [
      "     67/100      13.2G     0.7543     0.4223     0.8954         61        640: 100%|██████████| 36/36 [00:14<00:00,  2.56it/s]\n",
      "                 Class     Images  Instances      Box(P          R      mAP50  mAP50-95): 100%|██████████| 3/3 [00:01<00:00,  2.68it/s]"
     ]
    },
    {
     "name": "stdout",
     "output_type": "stream",
     "text": [
      "                   all         93        523      0.696      0.769      0.765      0.405\n"
     ]
    },
    {
     "name": "stderr",
     "output_type": "stream",
     "text": [
      "\n"
     ]
    },
    {
     "name": "stdout",
     "output_type": "stream",
     "text": [
      "\n",
      "      Epoch    GPU_mem   box_loss   cls_loss   dfl_loss  Instances       Size\n"
     ]
    },
    {
     "name": "stderr",
     "output_type": "stream",
     "text": [
      "     68/100      13.2G     0.7451     0.4178     0.8852         41        640: 100%|██████████| 36/36 [00:13<00:00,  2.64it/s]\n",
      "                 Class     Images  Instances      Box(P          R      mAP50  mAP50-95): 100%|██████████| 3/3 [00:00<00:00,  3.22it/s]"
     ]
    },
    {
     "name": "stdout",
     "output_type": "stream",
     "text": [
      "                   all         93        523      0.716      0.763      0.772      0.412\n"
     ]
    },
    {
     "name": "stderr",
     "output_type": "stream",
     "text": [
      "\n"
     ]
    },
    {
     "name": "stdout",
     "output_type": "stream",
     "text": [
      "\n",
      "      Epoch    GPU_mem   box_loss   cls_loss   dfl_loss  Instances       Size\n"
     ]
    },
    {
     "name": "stderr",
     "output_type": "stream",
     "text": [
      "     69/100      13.2G     0.7344      0.405     0.8841         75        640: 100%|██████████| 36/36 [00:13<00:00,  2.58it/s]\n",
      "                 Class     Images  Instances      Box(P          R      mAP50  mAP50-95): 100%|██████████| 3/3 [00:00<00:00,  3.20it/s]"
     ]
    },
    {
     "name": "stdout",
     "output_type": "stream",
     "text": [
      "                   all         93        523      0.701      0.773      0.771      0.407\n"
     ]
    },
    {
     "name": "stderr",
     "output_type": "stream",
     "text": [
      "\n"
     ]
    },
    {
     "name": "stdout",
     "output_type": "stream",
     "text": [
      "\n",
      "      Epoch    GPU_mem   box_loss   cls_loss   dfl_loss  Instances       Size\n"
     ]
    },
    {
     "name": "stderr",
     "output_type": "stream",
     "text": [
      "     70/100      13.2G     0.7531     0.4217     0.8936         59        640: 100%|██████████| 36/36 [00:13<00:00,  2.61it/s]\n",
      "                 Class     Images  Instances      Box(P          R      mAP50  mAP50-95): 100%|██████████| 3/3 [00:00<00:00,  3.30it/s]"
     ]
    },
    {
     "name": "stdout",
     "output_type": "stream",
     "text": [
      "                   all         93        523      0.697      0.808      0.779       0.41\n"
     ]
    },
    {
     "name": "stderr",
     "output_type": "stream",
     "text": [
      "\n"
     ]
    },
    {
     "name": "stdout",
     "output_type": "stream",
     "text": [
      "\n",
      "      Epoch    GPU_mem   box_loss   cls_loss   dfl_loss  Instances       Size\n"
     ]
    },
    {
     "name": "stderr",
     "output_type": "stream",
     "text": [
      "     71/100      13.3G     0.7271     0.4073     0.8797         71        640: 100%|██████████| 36/36 [00:14<00:00,  2.57it/s]\n",
      "                 Class     Images  Instances      Box(P          R      mAP50  mAP50-95): 100%|██████████| 3/3 [00:00<00:00,  3.15it/s]"
     ]
    },
    {
     "name": "stdout",
     "output_type": "stream",
     "text": [
      "                   all         93        523      0.718      0.769      0.787      0.419\n"
     ]
    },
    {
     "name": "stderr",
     "output_type": "stream",
     "text": [
      "\n"
     ]
    },
    {
     "name": "stdout",
     "output_type": "stream",
     "text": [
      "\n",
      "      Epoch    GPU_mem   box_loss   cls_loss   dfl_loss  Instances       Size\n"
     ]
    },
    {
     "name": "stderr",
     "output_type": "stream",
     "text": [
      "     72/100      13.2G     0.7136     0.3916     0.8784         47        640: 100%|██████████| 36/36 [00:13<00:00,  2.63it/s]\n",
      "                 Class     Images  Instances      Box(P          R      mAP50  mAP50-95): 100%|██████████| 3/3 [00:00<00:00,  3.16it/s]"
     ]
    },
    {
     "name": "stdout",
     "output_type": "stream",
     "text": [
      "                   all         93        523      0.641      0.762      0.752      0.406\n"
     ]
    },
    {
     "name": "stderr",
     "output_type": "stream",
     "text": [
      "\n"
     ]
    },
    {
     "name": "stdout",
     "output_type": "stream",
     "text": [
      "\n",
      "      Epoch    GPU_mem   box_loss   cls_loss   dfl_loss  Instances       Size\n"
     ]
    },
    {
     "name": "stderr",
     "output_type": "stream",
     "text": [
      "     73/100      13.1G     0.7071     0.3942     0.8833         70        640: 100%|██████████| 36/36 [00:14<00:00,  2.56it/s]\n",
      "                 Class     Images  Instances      Box(P          R      mAP50  mAP50-95): 100%|██████████| 3/3 [00:00<00:00,  3.31it/s]"
     ]
    },
    {
     "name": "stdout",
     "output_type": "stream",
     "text": [
      "                   all         93        523      0.719      0.742       0.78       0.42\n"
     ]
    },
    {
     "name": "stderr",
     "output_type": "stream",
     "text": [
      "\n"
     ]
    },
    {
     "name": "stdout",
     "output_type": "stream",
     "text": [
      "\n",
      "      Epoch    GPU_mem   box_loss   cls_loss   dfl_loss  Instances       Size\n"
     ]
    },
    {
     "name": "stderr",
     "output_type": "stream",
     "text": [
      "     74/100      13.2G     0.6808     0.3875     0.8757         69        640: 100%|██████████| 36/36 [00:13<00:00,  2.61it/s]\n",
      "                 Class     Images  Instances      Box(P          R      mAP50  mAP50-95): 100%|██████████| 3/3 [00:01<00:00,  2.32it/s]"
     ]
    },
    {
     "name": "stdout",
     "output_type": "stream",
     "text": [
      "                   all         93        523       0.72      0.746      0.778      0.415\n"
     ]
    },
    {
     "name": "stderr",
     "output_type": "stream",
     "text": [
      "\n"
     ]
    },
    {
     "name": "stdout",
     "output_type": "stream",
     "text": [
      "\n",
      "      Epoch    GPU_mem   box_loss   cls_loss   dfl_loss  Instances       Size\n"
     ]
    },
    {
     "name": "stderr",
     "output_type": "stream",
     "text": [
      "     75/100      13.2G     0.6933     0.3987     0.8725         98        640: 100%|██████████| 36/36 [00:13<00:00,  2.63it/s]\n",
      "                 Class     Images  Instances      Box(P          R      mAP50  mAP50-95): 100%|██████████| 3/3 [00:00<00:00,  3.13it/s]"
     ]
    },
    {
     "name": "stdout",
     "output_type": "stream",
     "text": [
      "                   all         93        523      0.719      0.714      0.781      0.412\n"
     ]
    },
    {
     "name": "stderr",
     "output_type": "stream",
     "text": [
      "\n"
     ]
    },
    {
     "name": "stdout",
     "output_type": "stream",
     "text": [
      "\n",
      "      Epoch    GPU_mem   box_loss   cls_loss   dfl_loss  Instances       Size\n"
     ]
    },
    {
     "name": "stderr",
     "output_type": "stream",
     "text": [
      "     76/100      13.2G      0.662     0.3784     0.8661         90        640: 100%|██████████| 36/36 [00:14<00:00,  2.55it/s]\n",
      "                 Class     Images  Instances      Box(P          R      mAP50  mAP50-95): 100%|██████████| 3/3 [00:00<00:00,  3.09it/s]"
     ]
    },
    {
     "name": "stdout",
     "output_type": "stream",
     "text": [
      "                   all         93        523       0.68      0.801      0.784      0.418\n"
     ]
    },
    {
     "name": "stderr",
     "output_type": "stream",
     "text": [
      "\n"
     ]
    },
    {
     "name": "stdout",
     "output_type": "stream",
     "text": [
      "\n",
      "      Epoch    GPU_mem   box_loss   cls_loss   dfl_loss  Instances       Size\n"
     ]
    },
    {
     "name": "stderr",
     "output_type": "stream",
     "text": [
      "     77/100      13.2G     0.6662     0.3738     0.8639        104        640: 100%|██████████| 36/36 [00:13<00:00,  2.64it/s]\n",
      "                 Class     Images  Instances      Box(P          R      mAP50  mAP50-95): 100%|██████████| 3/3 [00:01<00:00,  2.91it/s]"
     ]
    },
    {
     "name": "stdout",
     "output_type": "stream",
     "text": [
      "                   all         93        523      0.726      0.717      0.771      0.417\n"
     ]
    },
    {
     "name": "stderr",
     "output_type": "stream",
     "text": [
      "\n"
     ]
    },
    {
     "name": "stdout",
     "output_type": "stream",
     "text": [
      "\n",
      "      Epoch    GPU_mem   box_loss   cls_loss   dfl_loss  Instances       Size\n"
     ]
    },
    {
     "name": "stderr",
     "output_type": "stream",
     "text": [
      "     78/100      13.2G     0.6598     0.3673     0.8748         99        640: 100%|██████████| 36/36 [00:14<00:00,  2.53it/s]\n",
      "                 Class     Images  Instances      Box(P          R      mAP50  mAP50-95): 100%|██████████| 3/3 [00:00<00:00,  3.19it/s]"
     ]
    },
    {
     "name": "stdout",
     "output_type": "stream",
     "text": [
      "                   all         93        523      0.736      0.726       0.78      0.417\n"
     ]
    },
    {
     "name": "stderr",
     "output_type": "stream",
     "text": [
      "\n"
     ]
    },
    {
     "name": "stdout",
     "output_type": "stream",
     "text": [
      "\n",
      "      Epoch    GPU_mem   box_loss   cls_loss   dfl_loss  Instances       Size\n"
     ]
    },
    {
     "name": "stderr",
     "output_type": "stream",
     "text": [
      "     79/100      13.1G     0.6514     0.3666      0.861         86        640: 100%|██████████| 36/36 [00:13<00:00,  2.62it/s]\n",
      "                 Class     Images  Instances      Box(P          R      mAP50  mAP50-95): 100%|██████████| 3/3 [00:00<00:00,  3.07it/s]"
     ]
    },
    {
     "name": "stdout",
     "output_type": "stream",
     "text": [
      "                   all         93        523      0.715      0.742      0.772      0.413\n"
     ]
    },
    {
     "name": "stderr",
     "output_type": "stream",
     "text": [
      "\n"
     ]
    },
    {
     "name": "stdout",
     "output_type": "stream",
     "text": [
      "\n",
      "      Epoch    GPU_mem   box_loss   cls_loss   dfl_loss  Instances       Size\n"
     ]
    },
    {
     "name": "stderr",
     "output_type": "stream",
     "text": [
      "     80/100      13.2G     0.6367     0.3633     0.8638         71        640: 100%|██████████| 36/36 [00:14<00:00,  2.54it/s]\n",
      "                 Class     Images  Instances      Box(P          R      mAP50  mAP50-95): 100%|██████████| 3/3 [00:00<00:00,  3.14it/s]"
     ]
    },
    {
     "name": "stdout",
     "output_type": "stream",
     "text": [
      "                   all         93        523      0.678      0.779      0.777      0.423\n"
     ]
    },
    {
     "name": "stderr",
     "output_type": "stream",
     "text": [
      "\n"
     ]
    },
    {
     "name": "stdout",
     "output_type": "stream",
     "text": [
      "\n",
      "      Epoch    GPU_mem   box_loss   cls_loss   dfl_loss  Instances       Size\n"
     ]
    },
    {
     "name": "stderr",
     "output_type": "stream",
     "text": [
      "     81/100      13.3G     0.6244     0.3561      0.853         71        640: 100%|██████████| 36/36 [00:13<00:00,  2.58it/s]\n",
      "                 Class     Images  Instances      Box(P          R      mAP50  mAP50-95): 100%|██████████| 3/3 [00:01<00:00,  2.44it/s]"
     ]
    },
    {
     "name": "stdout",
     "output_type": "stream",
     "text": [
      "                   all         93        523      0.722       0.73       0.77      0.415\n"
     ]
    },
    {
     "name": "stderr",
     "output_type": "stream",
     "text": [
      "\n"
     ]
    },
    {
     "name": "stdout",
     "output_type": "stream",
     "text": [
      "\n",
      "      Epoch    GPU_mem   box_loss   cls_loss   dfl_loss  Instances       Size\n"
     ]
    },
    {
     "name": "stderr",
     "output_type": "stream",
     "text": [
      "     82/100      13.2G     0.6341     0.3637     0.8515         68        640: 100%|██████████| 36/36 [00:13<00:00,  2.60it/s]\n",
      "                 Class     Images  Instances      Box(P          R      mAP50  mAP50-95): 100%|██████████| 3/3 [00:00<00:00,  3.35it/s]"
     ]
    },
    {
     "name": "stdout",
     "output_type": "stream",
     "text": [
      "                   all         93        523      0.732       0.74      0.785      0.422\n"
     ]
    },
    {
     "name": "stderr",
     "output_type": "stream",
     "text": [
      "\n"
     ]
    },
    {
     "name": "stdout",
     "output_type": "stream",
     "text": [
      "\n",
      "      Epoch    GPU_mem   box_loss   cls_loss   dfl_loss  Instances       Size\n"
     ]
    },
    {
     "name": "stderr",
     "output_type": "stream",
     "text": [
      "     83/100      13.2G     0.5994     0.3375     0.8471        100        640: 100%|██████████| 36/36 [00:14<00:00,  2.51it/s]\n",
      "                 Class     Images  Instances      Box(P          R      mAP50  mAP50-95): 100%|██████████| 3/3 [00:00<00:00,  3.28it/s]"
     ]
    },
    {
     "name": "stdout",
     "output_type": "stream",
     "text": [
      "                   all         93        523      0.694      0.767      0.788      0.422\n"
     ]
    },
    {
     "name": "stderr",
     "output_type": "stream",
     "text": [
      "\n"
     ]
    },
    {
     "name": "stdout",
     "output_type": "stream",
     "text": [
      "\n",
      "      Epoch    GPU_mem   box_loss   cls_loss   dfl_loss  Instances       Size\n"
     ]
    },
    {
     "name": "stderr",
     "output_type": "stream",
     "text": [
      "     84/100      13.2G     0.6223     0.3596      0.856         92        640: 100%|██████████| 36/36 [00:13<00:00,  2.59it/s]\n",
      "                 Class     Images  Instances      Box(P          R      mAP50  mAP50-95): 100%|██████████| 3/3 [00:00<00:00,  3.08it/s]"
     ]
    },
    {
     "name": "stdout",
     "output_type": "stream",
     "text": [
      "                   all         93        523      0.696      0.742      0.759      0.414\n"
     ]
    },
    {
     "name": "stderr",
     "output_type": "stream",
     "text": [
      "\n"
     ]
    },
    {
     "name": "stdout",
     "output_type": "stream",
     "text": [
      "\n",
      "      Epoch    GPU_mem   box_loss   cls_loss   dfl_loss  Instances       Size\n"
     ]
    },
    {
     "name": "stderr",
     "output_type": "stream",
     "text": [
      "     85/100      13.2G     0.5976      0.346     0.8542         37        640: 100%|██████████| 36/36 [00:14<00:00,  2.57it/s]\n",
      "                 Class     Images  Instances      Box(P          R      mAP50  mAP50-95): 100%|██████████| 3/3 [00:00<00:00,  3.30it/s]"
     ]
    },
    {
     "name": "stdout",
     "output_type": "stream",
     "text": [
      "                   all         93        523      0.718       0.73      0.771       0.42\n"
     ]
    },
    {
     "name": "stderr",
     "output_type": "stream",
     "text": [
      "\n"
     ]
    },
    {
     "name": "stdout",
     "output_type": "stream",
     "text": [
      "\n",
      "      Epoch    GPU_mem   box_loss   cls_loss   dfl_loss  Instances       Size\n"
     ]
    },
    {
     "name": "stderr",
     "output_type": "stream",
     "text": [
      "     86/100      13.2G     0.6026     0.3501     0.8469         42        640: 100%|██████████| 36/36 [00:13<00:00,  2.59it/s]\n",
      "                 Class     Images  Instances      Box(P          R      mAP50  mAP50-95): 100%|██████████| 3/3 [00:00<00:00,  3.30it/s]"
     ]
    },
    {
     "name": "stdout",
     "output_type": "stream",
     "text": [
      "                   all         93        523      0.732      0.695      0.775      0.417\n",
      "\u001b[34m\u001b[1mEarlyStopping: \u001b[0mTraining stopped early as no improvement observed in last 50 epochs. Best results observed at epoch 36, best model saved as best.pt.\n",
      "To update EarlyStopping(patience=50) pass a new patience value, i.e. `patience=300` or use `patience=0` to disable EarlyStopping.\n"
     ]
    },
    {
     "name": "stderr",
     "output_type": "stream",
     "text": [
      "\n"
     ]
    },
    {
     "name": "stdout",
     "output_type": "stream",
     "text": [
      "\n",
      "86 epochs completed in 0.413 hours.\n",
      "Optimizer stripped from runs/detect/train/weights/last.pt, 136.7MB\n",
      "Optimizer stripped from runs/detect/train/weights/best.pt, 136.7MB\n",
      "\n",
      "Validating runs/detect/train/weights/best.pt...\n",
      "Ultralytics 8.3.61 🚀 Python-3.12.8 torch-2.5.1+cu124 CUDA:0 (NVIDIA A30, 24167MiB)\n",
      "Model summary (fused): 268 layers, 68,127,420 parameters, 0 gradients, 257.4 GFLOPs\n"
     ]
    },
    {
     "name": "stderr",
     "output_type": "stream",
     "text": [
      "                 Class     Images  Instances      Box(P          R      mAP50  mAP50-95): 100%|██████████| 3/3 [00:01<00:00,  1.62it/s]\n"
     ]
    },
    {
     "name": "stdout",
     "output_type": "stream",
     "text": [
      "                   all         93        523      0.682      0.772      0.805      0.425\n",
      "               Stage-2         20        140      0.638      0.786      0.762      0.343\n",
      "               Stage-3         43        205      0.828      0.815       0.89      0.496\n",
      "               Stage-4         31         58       0.51      0.603       0.67       0.36\n",
      "               Stage-5         39        120      0.751      0.883      0.897      0.502\n",
      "Speed: 0.5ms preprocess, 6.4ms inference, 0.0ms loss, 2.7ms postprocess per image\n",
      "Results saved to \u001b[1mruns/detect/train\u001b[0m\n"
     ]
    }
   ],
   "source": [
    "# Train the model using the 'data_1.yaml' dataset for 100 epochs\n",
    "#to test: single_cls,cos_lr, lr0, lrf, dropout\n",
    "results = model.train(data=\"/vast/scratch/users/mckay.m/malaria_classifier_katrina/mal_dect_gametocyte_2-13/data.yaml\", epochs=100, patience=50, device=0)"
   ]
  },
  {
   "cell_type": "markdown",
   "metadata": {},
   "source": [
    "# Create confidence scores csv and detection counts csv"
   ]
  },
  {
   "cell_type": "code",
   "execution_count": 5,
   "metadata": {},
   "outputs": [
    {
     "name": "stdout",
     "output_type": "stream",
     "text": [
      "\n",
      "image 1/46 /vast/scratch/users/mckay.m/malaria_classifier_katrina/mal_dect_gametocyte_2-11/test/images/day10_WT-21_png.rf.f77866c4e9ce7cf5cfd9682b8ce38c36.jpg: 640x480 1 Stage-4, 4 Stage-5s, 43.8ms\n",
      "image 2/46 /vast/scratch/users/mckay.m/malaria_classifier_katrina/mal_dect_gametocyte_2-11/test/images/day10_WT-27_png.rf.aff56612626071d1d34f1ef52bdfc15d.jpg: 640x480 1 Stage-4, 1 irregular, 18.7ms\n",
      "image 3/46 /vast/scratch/users/mckay.m/malaria_classifier_katrina/mal_dect_gametocyte_2-11/test/images/day10_WT-28_png.rf.6f1ced73a46fa4d0f81834e4256b90d1.jpg: 640x480 1 irregular, 18.7ms\n",
      "image 4/46 /vast/scratch/users/mckay.m/malaria_classifier_katrina/mal_dect_gametocyte_2-11/test/images/day10_WT-33_png.rf.417787af3e4e77acc5554193a862d50f.jpg: 640x480 1 Stage-5, 18.7ms\n",
      "image 5/46 /vast/scratch/users/mckay.m/malaria_classifier_katrina/mal_dect_gametocyte_2-11/test/images/day10_WT-67_png.rf.bc1df8b762101d0c47ea0b2179a8af1b.jpg: 640x480 1 Stage-5, 18.7ms\n",
      "image 6/46 /vast/scratch/users/mckay.m/malaria_classifier_katrina/mal_dect_gametocyte_2-11/test/images/day10_WT-70_png.rf.fadf7da6fb05aa8977a3efc3518c8eae.jpg: 640x480 1 Stage-4, 18.7ms\n",
      "image 7/46 /vast/scratch/users/mckay.m/malaria_classifier_katrina/mal_dect_gametocyte_2-11/test/images/day10_WT-71_png.rf.2e83b45728cffce7ea89805740e338d5.jpg: 640x480 1 irregular, 18.7ms\n",
      "image 8/46 /vast/scratch/users/mckay.m/malaria_classifier_katrina/mal_dect_gametocyte_2-11/test/images/day4_WT-03_png.rf.7f1f581d8a120c55b941f9c659176ad5.jpg: 640x480 2 Stage-3s, 18.6ms\n",
      "image 9/46 /vast/scratch/users/mckay.m/malaria_classifier_katrina/mal_dect_gametocyte_2-11/test/images/day4_WT-15_png.rf.0aad5afe3faf70513bb3525d03a05257.jpg: 640x480 1 Stage-3, 16.2ms\n",
      "image 10/46 /vast/scratch/users/mckay.m/malaria_classifier_katrina/mal_dect_gametocyte_2-11/test/images/day4_WT-17_png.rf.2395d819e6ad3b39b7df8d416e529203.jpg: 640x480 3 Stage-3s, 16.1ms\n",
      "image 11/46 /vast/scratch/users/mckay.m/malaria_classifier_katrina/mal_dect_gametocyte_2-11/test/images/day4_WT-31_png.rf.3922377b528f2d7bd670c8e28110d31b.jpg: 640x480 3 Stage-3s, 1 irregular, 16.1ms\n",
      "image 12/46 /vast/scratch/users/mckay.m/malaria_classifier_katrina/mal_dect_gametocyte_2-11/test/images/day6_WT-06_png.rf.5d4e69b9e16ded0e6b8a613ba207efe9.jpg: 640x480 2 Stage-3s, 1 Stage-4, 1 irregular, 16.1ms\n",
      "image 13/46 /vast/scratch/users/mckay.m/malaria_classifier_katrina/mal_dect_gametocyte_2-11/test/images/day6_WT-13_png.rf.28ecc2a8c467eee04fb07c19b6d35c2e.jpg: 640x480 1 Stage-3, 1 irregular, 16.2ms\n",
      "image 14/46 /vast/scratch/users/mckay.m/malaria_classifier_katrina/mal_dect_gametocyte_2-11/test/images/day6_WT-15_png.rf.d037ba62726ca8572650bf93e8347be5.jpg: 640x480 1 Stage-3, 1 Stage-4, 15.9ms\n",
      "image 15/46 /vast/scratch/users/mckay.m/malaria_classifier_katrina/mal_dect_gametocyte_2-11/test/images/day6_WT-21_png.rf.c3ab6fa876ea035a0c3ac50e2c346339.jpg: 640x480 1 Stage-3, 15.9ms\n",
      "image 16/46 /vast/scratch/users/mckay.m/malaria_classifier_katrina/mal_dect_gametocyte_2-11/test/images/day6_WT-29_png.rf.c50363c6271e96648d7d2619348721ca.jpg: 640x480 2 Stage-4s, 15.9ms\n",
      "image 17/46 /vast/scratch/users/mckay.m/malaria_classifier_katrina/mal_dect_gametocyte_2-11/test/images/day6_WT-46_png.rf.6cab446bf85c3cd196210e2d08441c2b.jpg: 640x480 1 Stage-3, 15.9ms\n",
      "image 18/46 /vast/scratch/users/mckay.m/malaria_classifier_katrina/mal_dect_gametocyte_2-11/test/images/day6_WT-52_png.rf.dd98ded2c14040ab6906dfa865cc46ab.jpg: 640x480 1 Stage-3, 1 Stage-4, 1 irregular, 15.9ms\n",
      "image 19/46 /vast/scratch/users/mckay.m/malaria_classifier_katrina/mal_dect_gametocyte_2-11/test/images/day8_WT-19_png.rf.ed9b2da8ba72315d8cb61e886fb54699.jpg: 640x480 2 Stage-4s, 15.9ms\n",
      "image 20/46 /vast/scratch/users/mckay.m/malaria_classifier_katrina/mal_dect_gametocyte_2-11/test/images/day8_WT-31_png.rf.5b054518012698840e80a0c8af3c7f66.jpg: 640x480 1 Stage-4, 1 Stage-5, 1 irregular, 15.9ms\n",
      "image 21/46 /vast/scratch/users/mckay.m/malaria_classifier_katrina/mal_dect_gametocyte_2-11/test/images/day8_WT-34_png.rf.326f70e14cfa8c7f27cf70a4db3373d4.jpg: 640x480 1 Stage-4, 1 irregular, 15.9ms\n",
      "image 22/46 /vast/scratch/users/mckay.m/malaria_classifier_katrina/mal_dect_gametocyte_2-11/test/images/day8_WT-48_png.rf.9ed592c3efafbabdab9bb71deaf44be4.jpg: 640x480 1 Stage-4, 15.8ms\n",
      "image 23/46 /vast/scratch/users/mckay.m/malaria_classifier_katrina/mal_dect_gametocyte_2-11/test/images/day8_WT-58_png.rf.cb1baa410f00bab6a3e41c0b07a39e17.jpg: 640x480 1 Stage-4, 15.9ms\n",
      "image 24/46 /vast/scratch/users/mckay.m/malaria_classifier_katrina/mal_dect_gametocyte_2-11/test/images/day8_WT-62_png.rf.48267c791bba67488622f183d421b9ff.jpg: 640x480 1 Stage-4, 15.8ms\n",
      "image 25/46 /vast/scratch/users/mckay.m/malaria_classifier_katrina/mal_dect_gametocyte_2-11/test/images/day8_WT-63_png.rf.d0154e5703174010579cd1ec87da280c.jpg: 640x480 1 Stage-4, 1 Stage-5, 15.8ms\n",
      "image 26/46 /vast/scratch/users/mckay.m/malaria_classifier_katrina/mal_dect_gametocyte_2-11/test/images/iGP2-day7-01_s0c0x1040-1040y4164-1388m34_jpg.rf.dacdbd51acf0d2955812c870e9c95155.jpg: 640x480 8 Stage-3s, 2 Stage-4s, 1 early, 10 irregulars, 15.8ms\n",
      "image 27/46 /vast/scratch/users/mckay.m/malaria_classifier_katrina/mal_dect_gametocyte_2-11/test/images/iGP2-day7-01_s0c0x2080-1040y6940-1388m51_jpg.rf.8e3f35301bb5108b4a12db0582a0a3e7.jpg: 640x480 1 Stage-2, 7 Stage-3s, 5 Stage-4s, 1 Stage-5, 7 irregulars, 15.9ms\n",
      "image 28/46 /vast/scratch/users/mckay.m/malaria_classifier_katrina/mal_dect_gametocyte_2-11/test/images/iGP2-day7-01_s0c0x3120-1040y8328-1388m57_jpg.rf.c5e95df1ea8ad840191067cbd039168a.jpg: 640x480 3 Stage-3s, 5 Stage-4s, 4 irregulars, 15.8ms\n",
      "image 29/46 /vast/scratch/users/mckay.m/malaria_classifier_katrina/mal_dect_gametocyte_2-11/test/images/iGP2-day7-01_s0c0x5200-1040y2776-1388m23_jpg.rf.00767a807f58179457fe5074e24ec8e2.jpg: 640x480 7 Stage-3s, 5 Stage-4s, 1 Stage-5, 2 earlys, 12 irregulars, 15.8ms\n",
      "image 30/46 /vast/scratch/users/mckay.m/malaria_classifier_katrina/mal_dect_gametocyte_2-11/test/images/iGP2-day7-01_s0c0x6240-1040y1388-1388m11_jpg.rf.516a4176914352f674d38a4c85ab7603.jpg: 640x480 7 Stage-3s, 7 Stage-4s, 1 debris, 2 earlys, 6 irregulars, 15.8ms\n",
      "image 31/46 /vast/scratch/users/mckay.m/malaria_classifier_katrina/mal_dect_gametocyte_2-11/test/images/iGP2-day7-01_s0c0x7280-1040y2776-1388m25_jpg.rf.b419315c597819242925209018f39960.jpg: 640x480 2 Stage-3s, 1 Stage-4, 9 irregulars, 15.8ms\n",
      "image 32/46 /vast/scratch/users/mckay.m/malaria_classifier_katrina/mal_dect_gametocyte_2-11/test/images/iGP2-day7-01_s0c0x7280-1040y4164-1388m28_jpg.rf.bb60383764e0dde67117a7c28a247b08.jpg: 640x480 1 Stage-2, 6 Stage-3s, 4 Stage-4s, 1 debris, 2 earlys, 5 irregulars, 15.7ms\n",
      "image 33/46 /vast/scratch/users/mckay.m/malaria_classifier_katrina/mal_dect_gametocyte_2-11/test/images/iGP2-day7-01_s0c0x8320-1040y0-1388m8_jpg.rf.00c8c14199a3bdc1a18a35ad1023f760.jpg: 640x480 4 Stage-3s, 6 Stage-4s, 1 debris, 3 irregulars, 15.8ms\n",
      "image 34/46 /vast/scratch/users/mckay.m/malaria_classifier_katrina/mal_dect_gametocyte_2-11/test/images/iGP2_DAY3-02_s0c0x0-1040y0-1388m0-tiff_MIP_jpg.rf.ced5406aaaf74f121cd70398e3909816.jpg: 640x480 24 Stage-2s, 1 Stage-4, 1 debris, 13 earlys, 4 irregulars, 15.8ms\n",
      "image 35/46 /vast/scratch/users/mckay.m/malaria_classifier_katrina/mal_dect_gametocyte_2-11/test/images/iGP2_DAY3-02_s0c0x11232-1040y6246-1388m71-tiff_MIP_jpg.rf.8150a70219a1314651e64db79e3c1ee4.jpg: 640x480 16 Stage-2s, 14 earlys, 1 irregular, 15.8ms\n",
      "image 36/46 /vast/scratch/users/mckay.m/malaria_classifier_katrina/mal_dect_gametocyte_2-11/test/images/iGP2_DAY3-02_s0c0x12168-1040y4997-1388m69-tiff_MIP_jpg.rf.36e3f75d07723ed0b5453354a7a089d7.jpg: 640x480 9 Stage-2s, 4 earlys, 1 irregular, 15.8ms\n",
      "image 37/46 /vast/scratch/users/mckay.m/malaria_classifier_katrina/mal_dect_gametocyte_2-11/test/images/iGP2_DAY3-02_s0c0x3744-1040y6246-1388m79-tiff_MIP_jpg.rf.26370c277d30d9c73db19c8eb2777474.jpg: 640x480 17 Stage-2s, 4 debriss, 15 earlys, 2 irregulars, 15.9ms\n",
      "image 38/46 /vast/scratch/users/mckay.m/malaria_classifier_katrina/mal_dect_gametocyte_2-11/test/images/iGP2_DAY5-02_s0c0x1040-1040y2776-1388m17_jpg.rf.62c7bbe52e16a531135fff16c1138dfc.jpg: 640x480 5 Stage-2s, 28 Stage-3s, 15.8ms\n",
      "image 39/46 /vast/scratch/users/mckay.m/malaria_classifier_katrina/mal_dect_gametocyte_2-11/test/images/iGP2_DAY5-02_s0c0x7280-1040y0-1388m7_jpg.rf.8390b5461ffc89fc34129db070a40db4.jpg: 640x480 5 Stage-2s, 22 Stage-3s, 1 debris, 2 earlys, 15.9ms\n",
      "image 40/46 /vast/scratch/users/mckay.m/malaria_classifier_katrina/mal_dect_gametocyte_2-11/test/images/iGP2_DAY5-02_s0c0x7280-1040y1388-1388m8_jpg.rf.40a3341422f2b07807ce247ba5b8ab6a.jpg: 640x480 3 Stage-2s, 13 Stage-3s, 1 irregular, 15.8ms\n",
      "image 41/46 /vast/scratch/users/mckay.m/malaria_classifier_katrina/mal_dect_gametocyte_2-11/test/images/iGP2_day10-03_s0c0x2080-1040y0-1388m2_jpg.rf.131327a7ac5546fcf1a798ddcc304457.jpg: 640x480 10 Stage-5s, 5 debriss, 1 early, 5 irregulars, 15.9ms\n",
      "image 42/46 /vast/scratch/users/mckay.m/malaria_classifier_katrina/mal_dect_gametocyte_2-11/test/images/iGP2_day10-03_s0c0x3120-1040y2776-1388m25_jpg.rf.33c081d88c7543015c1ee9526428c3dc.jpg: 640x480 1 Stage-3, 10 Stage-5s, 3 debriss, 5 irregulars, 15.8ms\n",
      "image 43/46 /vast/scratch/users/mckay.m/malaria_classifier_katrina/mal_dect_gametocyte_2-11/test/images/iGP2_day10-03_s0c0x5200-1040y1388-1388m16_jpg.rf.df030af0c4e0ac6063d7421df543798c.jpg: 640x480 1 Stage-4, 10 Stage-5s, 5 debriss, 5 irregulars, 15.8ms\n",
      "image 44/46 /vast/scratch/users/mckay.m/malaria_classifier_katrina/mal_dect_gametocyte_2-11/test/images/iGP2_day10-03_s0c0x5200-1040y5552-1388m49_jpg.rf.60fc728e916aa6074b201bd7275f4fba.jpg: 640x480 1 Stage-3, 2 Stage-4s, 12 Stage-5s, 4 debriss, 2 earlys, 5 irregulars, 15.8ms\n",
      "image 45/46 /vast/scratch/users/mckay.m/malaria_classifier_katrina/mal_dect_gametocyte_2-11/test/images/iGP2_day10-03_s0c0x6240-1040y4164-1388m37_jpg.rf.e99b41af4fc3b93199a156b800179cbc.jpg: 640x480 3 Stage-4s, 10 Stage-5s, 5 debriss, 4 irregulars, 15.8ms\n",
      "image 46/46 /vast/scratch/users/mckay.m/malaria_classifier_katrina/mal_dect_gametocyte_2-11/test/images/iGP2_day10-03_s0c0x8320-1040y0-1388m8_jpg.rf.a06c22bc2898560450d6c5b91e534146.jpg: 640x480 1 Stage-4, 5 Stage-5s, 2 debriss, 2 irregulars, 15.8ms\n",
      "Speed: 2.2ms preprocess, 16.9ms inference, 1.1ms postprocess per image at shape (1, 3, 640, 480)\n",
      "Results saved to \u001b[1mruns/detect/predict\u001b[0m\n",
      "Detection counts saved to detection_results_counts.csv\n",
      "Confidence scores saved to detection_results_confidences.csv\n"
     ]
    }
   ],
   "source": [
    "# Load the pre-trained YOLO model\n",
    "model = YOLO('/vast/scratch/users/mckay.m/malaria_classifier_katrina/runs/detect/train_2_11_full_images_size_640_best_so_far/weights/best.pt')\n",
    "\n",
    "img_dir = '/vast/scratch/users/mckay.m/malaria_classifier_katrina/mal_dect_gametocyte_2-11/test/images'\n",
    "\n",
    "# Run predictions on the test set images\n",
    "results = model.predict(img_dir, save=True)\n",
    "\n",
    "# Initialize data structures\n",
    "all_stages = set()\n",
    "csv_data = []\n",
    "confidence_data = []\n",
    "\n",
    "# Loop through results to find all unique stages\n",
    "for result in results:\n",
    "    # Extract the image name after the last \"/\"\n",
    "    image_name = os.path.basename(result.path)\n",
    "    \n",
    "    # Get detected class indices and corresponding confidence scores\n",
    "    class_indices = result.boxes.cls.int().tolist()\n",
    "    confidences = result.boxes.conf.tolist()\n",
    "    \n",
    "    # Map class indices to stage names and create a list of tuples (stage, confidence)\n",
    "    detected = [(model.names[class_idx], conf) for class_idx, conf in zip(class_indices, confidences)]\n",
    "    \n",
    "    # Add detected stages to the all_stages set\n",
    "    all_stages.update(stage for stage, _ in detected)\n",
    "\n",
    "# Convert the set of all stages to a sorted list\n",
    "all_stages = sorted(all_stages)\n",
    "\n",
    "# Totals for each stage\n",
    "total_counts = Counter()\n",
    "\n",
    "# Loop through results again to build rows for both CSVs\n",
    "for result in results:\n",
    "    # Extract the image name\n",
    "    image_name = os.path.basename(result.path)\n",
    "    \n",
    "    # Get detected class indices and corresponding confidence scores\n",
    "    class_indices = result.boxes.cls.int().tolist()\n",
    "    confidences = result.boxes.conf.tolist()\n",
    "    \n",
    "    # Map class indices to stage names and create a list of tuples (stage, confidence)\n",
    "    detected = [(model.names[class_idx], conf) for class_idx, conf in zip(class_indices, confidences)]\n",
    "    \n",
    "    # Count the occurrences of each detected stage\n",
    "    stage_count = Counter(stage for stage, _ in detected)\n",
    "    \n",
    "    # Update totals for stage counts\n",
    "    total_counts.update(stage_count)\n",
    "    \n",
    "    # Create a row for the detection counts\n",
    "    count_row = [image_name]\n",
    "    for stage in all_stages:\n",
    "        count_row.append(stage_count.get(stage, 0))\n",
    "    csv_data.append(count_row)\n",
    "    \n",
    "    # Create a row for confidence scores as a single column\n",
    "    confidence_list = [f\"{stage}:{round(conf, 2)}\" for stage, conf in detected]\n",
    "    confidence_row = [image_name, \", \".join(confidence_list)]\n",
    "    confidence_data.append(confidence_row)\n",
    "\n",
    "# Add totals to the counts CSV\n",
    "total_row_counts = [\"Total\"]\n",
    "for stage in all_stages:\n",
    "    total_row_counts.append(total_counts.get(stage, 0))\n",
    "csv_data.append(total_row_counts)\n",
    "\n",
    "# Write the detection counts to the first CSV file\n",
    "csv_file_counts = 'detection_results_counts.csv'\n",
    "with open(csv_file_counts, mode='w', newline='') as file:\n",
    "    writer = csv.writer(file)\n",
    "    writer.writerow([\"Image Name\"] + all_stages)\n",
    "    writer.writerows(csv_data)\n",
    "\n",
    "print(f\"Detection counts saved to {csv_file_counts}\")\n",
    "\n",
    "# Write the confidence scores to the second CSV file\n",
    "csv_file_confidences = 'detection_results_confidences.csv'\n",
    "with open(csv_file_confidences, mode='w', newline='') as file:\n",
    "    writer = csv.writer(file)\n",
    "    writer.writerow([\"Image Name\", \"Detections with Confidence\"])\n",
    "    writer.writerows(confidence_data)\n",
    "\n",
    "print(f\"Confidence scores saved to {csv_file_confidences}\")\n"
   ]
  },
  {
   "cell_type": "code",
   "execution_count": null,
   "metadata": {},
   "outputs": [],
   "source": []
  }
 ],
 "metadata": {
  "kernelspec": {
   "display_name": "Python 3",
   "language": "python",
   "name": "python3"
  },
  "language_info": {
   "codemirror_mode": {
    "name": "ipython",
    "version": 3
   },
   "file_extension": ".py",
   "mimetype": "text/x-python",
   "name": "python",
   "nbconvert_exporter": "python",
   "pygments_lexer": "ipython3",
   "version": "3.12.8"
  }
 },
 "nbformat": 4,
 "nbformat_minor": 2
}
